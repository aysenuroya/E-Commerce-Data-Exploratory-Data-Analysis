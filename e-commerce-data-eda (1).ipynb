{
 "cells": [
  {
   "cell_type": "code",
   "execution_count": 1,
   "metadata": {
    "_cell_guid": "b1076dfc-b9ad-4769-8c92-a6c4dae69d19",
    "_uuid": "8f2839f25d086af736a60e9eeb907d3b93b6e0e5",
    "execution": {
     "iopub.execute_input": "2021-01-29T17:11:29.736624Z",
     "iopub.status.busy": "2021-01-29T17:11:29.735962Z",
     "iopub.status.idle": "2021-01-29T17:11:29.749788Z",
     "shell.execute_reply": "2021-01-29T17:11:29.750362Z"
    },
    "papermill": {
     "duration": 0.055692,
     "end_time": "2021-01-29T17:11:29.750569",
     "exception": false,
     "start_time": "2021-01-29T17:11:29.694877",
     "status": "completed"
    },
    "tags": []
   },
   "outputs": [
    {
     "name": "stdout",
     "output_type": "stream",
     "text": [
      "/kaggle/input/ecommerce-data/data.csv\n"
     ]
    }
   ],
   "source": [
    "# This Python 3 environment comes with many helpful analytics libraries installed\n",
    "# It is defined by the kaggle/python Docker image: https://github.com/kaggle/docker-python\n",
    "# For example, here's several helpful packages to load\n",
    "\n",
    "import numpy as np # linear algebra\n",
    "import pandas as pd # data processing, CSV file I/O (e.g. pd.read_csv)\n",
    "\n",
    "# Input data files are available in the read-only \"../input/\" directory\n",
    "# For example, running this (by clicking run or pressing Shift+Enter) will list all files under the input directory\n",
    "\n",
    "import os\n",
    "for dirname, _, filenames in os.walk('/kaggle/input'):\n",
    "    for filename in filenames:\n",
    "        print(os.path.join(dirname, filename))\n",
    "\n",
    "# You can write up to 20GB to the current directory (/kaggle/working/) that gets preserved as output when you create a version using \"Save & Run All\" \n",
    "# You can also write temporary files to /kaggle/temp/, but they won't be saved outside of the current session"
   ]
  },
  {
   "cell_type": "code",
   "execution_count": 2,
   "metadata": {
    "_cell_guid": "79c7e3d0-c299-4dcb-8224-4455121ee9b0",
    "_uuid": "d629ff2d2480ee46fbb7e2d37f6b5fab8052498a",
    "execution": {
     "iopub.execute_input": "2021-01-29T17:11:29.825724Z",
     "iopub.status.busy": "2021-01-29T17:11:29.825080Z",
     "iopub.status.idle": "2021-01-29T17:11:30.778002Z",
     "shell.execute_reply": "2021-01-29T17:11:30.777296Z"
    },
    "papermill": {
     "duration": 0.992364,
     "end_time": "2021-01-29T17:11:30.778116",
     "exception": false,
     "start_time": "2021-01-29T17:11:29.785752",
     "status": "completed"
    },
    "tags": []
   },
   "outputs": [],
   "source": [
    "import pandas as pd \n",
    "import numpy as np\n",
    "\n",
    "import matplotlib.pyplot as plt\n",
    "import seaborn as sns\n",
    "import missingno as msno\n",
    "\n",
    "from scipy import stats \n",
    "\n",
    "import warnings\n",
    "warnings.filterwarnings('ignore')"
   ]
  },
  {
   "cell_type": "code",
   "execution_count": 3,
   "metadata": {
    "execution": {
     "iopub.execute_input": "2021-01-29T17:11:30.852222Z",
     "iopub.status.busy": "2021-01-29T17:11:30.851142Z",
     "iopub.status.idle": "2021-01-29T17:11:32.256047Z",
     "shell.execute_reply": "2021-01-29T17:11:32.255248Z"
    },
    "papermill": {
     "duration": 1.443858,
     "end_time": "2021-01-29T17:11:32.256164",
     "exception": false,
     "start_time": "2021-01-29T17:11:30.812306",
     "status": "completed"
    },
    "tags": []
   },
   "outputs": [],
   "source": [
    "data = pd.read_csv(\"../input/ecommerce-data/data.csv\", encoding=\"ISO-8859-1\", dtype={'CustomerID': str})"
   ]
  },
  {
   "cell_type": "code",
   "execution_count": 4,
   "metadata": {
    "execution": {
     "iopub.execute_input": "2021-01-29T17:11:32.342981Z",
     "iopub.status.busy": "2021-01-29T17:11:32.341949Z",
     "iopub.status.idle": "2021-01-29T17:11:32.352892Z",
     "shell.execute_reply": "2021-01-29T17:11:32.352282Z"
    },
    "papermill": {
     "duration": 0.062838,
     "end_time": "2021-01-29T17:11:32.353000",
     "exception": false,
     "start_time": "2021-01-29T17:11:32.290162",
     "status": "completed"
    },
    "tags": []
   },
   "outputs": [
    {
     "data": {
      "text/html": [
       "<div>\n",
       "<style scoped>\n",
       "    .dataframe tbody tr th:only-of-type {\n",
       "        vertical-align: middle;\n",
       "    }\n",
       "\n",
       "    .dataframe tbody tr th {\n",
       "        vertical-align: top;\n",
       "    }\n",
       "\n",
       "    .dataframe thead th {\n",
       "        text-align: right;\n",
       "    }\n",
       "</style>\n",
       "<table border=\"1\" class=\"dataframe\">\n",
       "  <thead>\n",
       "    <tr style=\"text-align: right;\">\n",
       "      <th></th>\n",
       "      <th>InvoiceNo</th>\n",
       "      <th>StockCode</th>\n",
       "      <th>Description</th>\n",
       "      <th>Quantity</th>\n",
       "      <th>InvoiceDate</th>\n",
       "      <th>UnitPrice</th>\n",
       "      <th>CustomerID</th>\n",
       "      <th>Country</th>\n",
       "    </tr>\n",
       "  </thead>\n",
       "  <tbody>\n",
       "    <tr>\n",
       "      <th>0</th>\n",
       "      <td>536365</td>\n",
       "      <td>85123A</td>\n",
       "      <td>WHITE HANGING HEART T-LIGHT HOLDER</td>\n",
       "      <td>6</td>\n",
       "      <td>12/1/2010 8:26</td>\n",
       "      <td>2.55</td>\n",
       "      <td>17850</td>\n",
       "      <td>United Kingdom</td>\n",
       "    </tr>\n",
       "    <tr>\n",
       "      <th>1</th>\n",
       "      <td>536365</td>\n",
       "      <td>71053</td>\n",
       "      <td>WHITE METAL LANTERN</td>\n",
       "      <td>6</td>\n",
       "      <td>12/1/2010 8:26</td>\n",
       "      <td>3.39</td>\n",
       "      <td>17850</td>\n",
       "      <td>United Kingdom</td>\n",
       "    </tr>\n",
       "    <tr>\n",
       "      <th>2</th>\n",
       "      <td>536365</td>\n",
       "      <td>84406B</td>\n",
       "      <td>CREAM CUPID HEARTS COAT HANGER</td>\n",
       "      <td>8</td>\n",
       "      <td>12/1/2010 8:26</td>\n",
       "      <td>2.75</td>\n",
       "      <td>17850</td>\n",
       "      <td>United Kingdom</td>\n",
       "    </tr>\n",
       "    <tr>\n",
       "      <th>3</th>\n",
       "      <td>536365</td>\n",
       "      <td>84029G</td>\n",
       "      <td>KNITTED UNION FLAG HOT WATER BOTTLE</td>\n",
       "      <td>6</td>\n",
       "      <td>12/1/2010 8:26</td>\n",
       "      <td>3.39</td>\n",
       "      <td>17850</td>\n",
       "      <td>United Kingdom</td>\n",
       "    </tr>\n",
       "    <tr>\n",
       "      <th>4</th>\n",
       "      <td>536365</td>\n",
       "      <td>84029E</td>\n",
       "      <td>RED WOOLLY HOTTIE WHITE HEART.</td>\n",
       "      <td>6</td>\n",
       "      <td>12/1/2010 8:26</td>\n",
       "      <td>3.39</td>\n",
       "      <td>17850</td>\n",
       "      <td>United Kingdom</td>\n",
       "    </tr>\n",
       "  </tbody>\n",
       "</table>\n",
       "</div>"
      ],
      "text/plain": [
       "  InvoiceNo StockCode                          Description  Quantity  \\\n",
       "0    536365    85123A   WHITE HANGING HEART T-LIGHT HOLDER         6   \n",
       "1    536365     71053                  WHITE METAL LANTERN         6   \n",
       "2    536365    84406B       CREAM CUPID HEARTS COAT HANGER         8   \n",
       "3    536365    84029G  KNITTED UNION FLAG HOT WATER BOTTLE         6   \n",
       "4    536365    84029E       RED WOOLLY HOTTIE WHITE HEART.         6   \n",
       "\n",
       "      InvoiceDate  UnitPrice CustomerID         Country  \n",
       "0  12/1/2010 8:26       2.55      17850  United Kingdom  \n",
       "1  12/1/2010 8:26       3.39      17850  United Kingdom  \n",
       "2  12/1/2010 8:26       2.75      17850  United Kingdom  \n",
       "3  12/1/2010 8:26       3.39      17850  United Kingdom  \n",
       "4  12/1/2010 8:26       3.39      17850  United Kingdom  "
      ]
     },
     "execution_count": 4,
     "metadata": {},
     "output_type": "execute_result"
    }
   ],
   "source": [
    "data.head()"
   ]
  },
  {
   "cell_type": "code",
   "execution_count": 5,
   "metadata": {
    "execution": {
     "iopub.execute_input": "2021-01-29T17:11:32.426921Z",
     "iopub.status.busy": "2021-01-29T17:11:32.426039Z",
     "iopub.status.idle": "2021-01-29T17:11:32.769576Z",
     "shell.execute_reply": "2021-01-29T17:11:32.770363Z"
    },
    "papermill": {
     "duration": 0.383547,
     "end_time": "2021-01-29T17:11:32.770573",
     "exception": false,
     "start_time": "2021-01-29T17:11:32.387026",
     "status": "completed"
    },
    "tags": []
   },
   "outputs": [
    {
     "name": "stdout",
     "output_type": "stream",
     "text": [
      "<class 'pandas.core.frame.DataFrame'>\n",
      "RangeIndex: 541909 entries, 0 to 541908\n",
      "Data columns (total 8 columns):\n",
      " #   Column       Non-Null Count   Dtype  \n",
      "---  ------       --------------   -----  \n",
      " 0   InvoiceNo    541909 non-null  object \n",
      " 1   StockCode    541909 non-null  object \n",
      " 2   Description  540455 non-null  object \n",
      " 3   Quantity     541909 non-null  int64  \n",
      " 4   InvoiceDate  541909 non-null  object \n",
      " 5   UnitPrice    541909 non-null  float64\n",
      " 6   CustomerID   406829 non-null  object \n",
      " 7   Country      541909 non-null  object \n",
      "dtypes: float64(1), int64(1), object(6)\n",
      "memory usage: 33.1+ MB\n"
     ]
    }
   ],
   "source": [
    "data.info()"
   ]
  },
  {
   "cell_type": "code",
   "execution_count": 6,
   "metadata": {
    "execution": {
     "iopub.execute_input": "2021-01-29T17:11:32.930200Z",
     "iopub.status.busy": "2021-01-29T17:11:32.929514Z",
     "iopub.status.idle": "2021-01-29T17:11:34.090820Z",
     "shell.execute_reply": "2021-01-29T17:11:34.091331Z"
    },
    "papermill": {
     "duration": 1.284701,
     "end_time": "2021-01-29T17:11:34.091486",
     "exception": false,
     "start_time": "2021-01-29T17:11:32.806785",
     "status": "completed"
    },
    "tags": []
   },
   "outputs": [
    {
     "data": {
      "text/html": [
       "<div>\n",
       "<style scoped>\n",
       "    .dataframe tbody tr th:only-of-type {\n",
       "        vertical-align: middle;\n",
       "    }\n",
       "\n",
       "    .dataframe tbody tr th {\n",
       "        vertical-align: top;\n",
       "    }\n",
       "\n",
       "    .dataframe thead th {\n",
       "        text-align: right;\n",
       "    }\n",
       "</style>\n",
       "<table border=\"1\" class=\"dataframe\">\n",
       "  <thead>\n",
       "    <tr style=\"text-align: right;\">\n",
       "      <th></th>\n",
       "      <th>count</th>\n",
       "      <th>unique</th>\n",
       "      <th>top</th>\n",
       "      <th>freq</th>\n",
       "      <th>mean</th>\n",
       "      <th>std</th>\n",
       "      <th>min</th>\n",
       "      <th>25%</th>\n",
       "      <th>50%</th>\n",
       "      <th>75%</th>\n",
       "      <th>max</th>\n",
       "    </tr>\n",
       "  </thead>\n",
       "  <tbody>\n",
       "    <tr>\n",
       "      <th>InvoiceNo</th>\n",
       "      <td>541909</td>\n",
       "      <td>25900</td>\n",
       "      <td>573585</td>\n",
       "      <td>1114</td>\n",
       "      <td>NaN</td>\n",
       "      <td>NaN</td>\n",
       "      <td>NaN</td>\n",
       "      <td>NaN</td>\n",
       "      <td>NaN</td>\n",
       "      <td>NaN</td>\n",
       "      <td>NaN</td>\n",
       "    </tr>\n",
       "    <tr>\n",
       "      <th>StockCode</th>\n",
       "      <td>541909</td>\n",
       "      <td>4070</td>\n",
       "      <td>85123A</td>\n",
       "      <td>2313</td>\n",
       "      <td>NaN</td>\n",
       "      <td>NaN</td>\n",
       "      <td>NaN</td>\n",
       "      <td>NaN</td>\n",
       "      <td>NaN</td>\n",
       "      <td>NaN</td>\n",
       "      <td>NaN</td>\n",
       "    </tr>\n",
       "    <tr>\n",
       "      <th>Description</th>\n",
       "      <td>540455</td>\n",
       "      <td>4223</td>\n",
       "      <td>WHITE HANGING HEART T-LIGHT HOLDER</td>\n",
       "      <td>2369</td>\n",
       "      <td>NaN</td>\n",
       "      <td>NaN</td>\n",
       "      <td>NaN</td>\n",
       "      <td>NaN</td>\n",
       "      <td>NaN</td>\n",
       "      <td>NaN</td>\n",
       "      <td>NaN</td>\n",
       "    </tr>\n",
       "    <tr>\n",
       "      <th>Quantity</th>\n",
       "      <td>541909</td>\n",
       "      <td>NaN</td>\n",
       "      <td>NaN</td>\n",
       "      <td>NaN</td>\n",
       "      <td>9.55225</td>\n",
       "      <td>218.081</td>\n",
       "      <td>-80995</td>\n",
       "      <td>1</td>\n",
       "      <td>3</td>\n",
       "      <td>10</td>\n",
       "      <td>80995</td>\n",
       "    </tr>\n",
       "    <tr>\n",
       "      <th>InvoiceDate</th>\n",
       "      <td>541909</td>\n",
       "      <td>23260</td>\n",
       "      <td>10/31/2011 14:41</td>\n",
       "      <td>1114</td>\n",
       "      <td>NaN</td>\n",
       "      <td>NaN</td>\n",
       "      <td>NaN</td>\n",
       "      <td>NaN</td>\n",
       "      <td>NaN</td>\n",
       "      <td>NaN</td>\n",
       "      <td>NaN</td>\n",
       "    </tr>\n",
       "    <tr>\n",
       "      <th>UnitPrice</th>\n",
       "      <td>541909</td>\n",
       "      <td>NaN</td>\n",
       "      <td>NaN</td>\n",
       "      <td>NaN</td>\n",
       "      <td>4.61111</td>\n",
       "      <td>96.7599</td>\n",
       "      <td>-11062.1</td>\n",
       "      <td>1.25</td>\n",
       "      <td>2.08</td>\n",
       "      <td>4.13</td>\n",
       "      <td>38970</td>\n",
       "    </tr>\n",
       "    <tr>\n",
       "      <th>CustomerID</th>\n",
       "      <td>406829</td>\n",
       "      <td>4372</td>\n",
       "      <td>17841</td>\n",
       "      <td>7983</td>\n",
       "      <td>NaN</td>\n",
       "      <td>NaN</td>\n",
       "      <td>NaN</td>\n",
       "      <td>NaN</td>\n",
       "      <td>NaN</td>\n",
       "      <td>NaN</td>\n",
       "      <td>NaN</td>\n",
       "    </tr>\n",
       "    <tr>\n",
       "      <th>Country</th>\n",
       "      <td>541909</td>\n",
       "      <td>38</td>\n",
       "      <td>United Kingdom</td>\n",
       "      <td>495478</td>\n",
       "      <td>NaN</td>\n",
       "      <td>NaN</td>\n",
       "      <td>NaN</td>\n",
       "      <td>NaN</td>\n",
       "      <td>NaN</td>\n",
       "      <td>NaN</td>\n",
       "      <td>NaN</td>\n",
       "    </tr>\n",
       "  </tbody>\n",
       "</table>\n",
       "</div>"
      ],
      "text/plain": [
       "              count unique                                 top    freq  \\\n",
       "InvoiceNo    541909  25900                              573585    1114   \n",
       "StockCode    541909   4070                              85123A    2313   \n",
       "Description  540455   4223  WHITE HANGING HEART T-LIGHT HOLDER    2369   \n",
       "Quantity     541909    NaN                                 NaN     NaN   \n",
       "InvoiceDate  541909  23260                    10/31/2011 14:41    1114   \n",
       "UnitPrice    541909    NaN                                 NaN     NaN   \n",
       "CustomerID   406829   4372                               17841    7983   \n",
       "Country      541909     38                      United Kingdom  495478   \n",
       "\n",
       "                mean      std      min   25%   50%   75%    max  \n",
       "InvoiceNo        NaN      NaN      NaN   NaN   NaN   NaN    NaN  \n",
       "StockCode        NaN      NaN      NaN   NaN   NaN   NaN    NaN  \n",
       "Description      NaN      NaN      NaN   NaN   NaN   NaN    NaN  \n",
       "Quantity     9.55225  218.081   -80995     1     3    10  80995  \n",
       "InvoiceDate      NaN      NaN      NaN   NaN   NaN   NaN    NaN  \n",
       "UnitPrice    4.61111  96.7599 -11062.1  1.25  2.08  4.13  38970  \n",
       "CustomerID       NaN      NaN      NaN   NaN   NaN   NaN    NaN  \n",
       "Country          NaN      NaN      NaN   NaN   NaN   NaN    NaN  "
      ]
     },
     "execution_count": 6,
     "metadata": {},
     "output_type": "execute_result"
    }
   ],
   "source": [
    "data.describe(include='all').T"
   ]
  },
  {
   "cell_type": "markdown",
   "metadata": {
    "papermill": {
     "duration": 0.036362,
     "end_time": "2021-01-29T17:11:34.164499",
     "exception": false,
     "start_time": "2021-01-29T17:11:34.128137",
     "status": "completed"
    },
    "tags": []
   },
   "source": [
    "# **Missing Values**"
   ]
  },
  {
   "cell_type": "code",
   "execution_count": 7,
   "metadata": {
    "execution": {
     "iopub.execute_input": "2021-01-29T17:11:34.240299Z",
     "iopub.status.busy": "2021-01-29T17:11:34.239677Z",
     "iopub.status.idle": "2021-01-29T17:11:34.572571Z",
     "shell.execute_reply": "2021-01-29T17:11:34.572050Z"
    },
    "papermill": {
     "duration": 0.37172,
     "end_time": "2021-01-29T17:11:34.572694",
     "exception": false,
     "start_time": "2021-01-29T17:11:34.200974",
     "status": "completed"
    },
    "tags": []
   },
   "outputs": [
    {
     "data": {
      "text/plain": [
       "Index(['Description', 'CustomerID'], dtype='object')"
      ]
     },
     "execution_count": 7,
     "metadata": {},
     "output_type": "execute_result"
    }
   ],
   "source": [
    "data.columns[data.isnull().any()]"
   ]
  },
  {
   "cell_type": "code",
   "execution_count": 8,
   "metadata": {
    "execution": {
     "iopub.execute_input": "2021-01-29T17:11:34.663063Z",
     "iopub.status.busy": "2021-01-29T17:11:34.662428Z",
     "iopub.status.idle": "2021-01-29T17:11:35.226915Z",
     "shell.execute_reply": "2021-01-29T17:11:35.227416Z"
    },
    "papermill": {
     "duration": 0.618121,
     "end_time": "2021-01-29T17:11:35.227573",
     "exception": false,
     "start_time": "2021-01-29T17:11:34.609452",
     "status": "completed"
    },
    "tags": []
   },
   "outputs": [
    {
     "data": {
      "image/png": "[encoded data removed]",
      "text/plain": [
       "<Figure size 1728x720 with 3 Axes>"
      ]
     },
     "metadata": {
      "needs_background": "light"
     },
     "output_type": "display_data"
    }
   ],
   "source": [
    "data_missings=data.filter(['Description', 'CustomerID'], axis=1)\n",
    "msno.bar(data_missings);"
   ]
  },
  {
   "cell_type": "code",
   "execution_count": 9,
   "metadata": {
    "execution": {
     "iopub.execute_input": "2021-01-29T17:11:35.304826Z",
     "iopub.status.busy": "2021-01-29T17:11:35.304226Z",
     "iopub.status.idle": "2021-01-29T17:11:36.046877Z",
     "shell.execute_reply": "2021-01-29T17:11:36.047450Z"
    },
    "papermill": {
     "duration": 0.782815,
     "end_time": "2021-01-29T17:11:36.047594",
     "exception": false,
     "start_time": "2021-01-29T17:11:35.264779",
     "status": "completed"
    },
    "tags": []
   },
   "outputs": [
    {
     "data": {
      "image/png": "[encoded data removed]",
      "text/plain": [
       "<Figure size 1440x864 with 2 Axes>"
      ]
     },
     "metadata": {
      "needs_background": "light"
     },
     "output_type": "display_data"
    }
   ],
   "source": [
    "msno.heatmap(data); "
   ]
  },
  {
   "cell_type": "code",
   "execution_count": 10,
   "metadata": {
    "execution": {
     "iopub.execute_input": "2021-01-29T17:11:36.129719Z",
     "iopub.status.busy": "2021-01-29T17:11:36.129055Z",
     "iopub.status.idle": "2021-01-29T17:11:36.357940Z",
     "shell.execute_reply": "2021-01-29T17:11:36.358456Z"
    },
    "papermill": {
     "duration": 0.27143,
     "end_time": "2021-01-29T17:11:36.358598",
     "exception": false,
     "start_time": "2021-01-29T17:11:36.087168",
     "status": "completed"
    },
    "tags": []
   },
   "outputs": [
    {
     "name": "stdout",
     "output_type": "stream",
     "text": [
      "There are 8 columns and 541909 rows in the dataset.\n",
      "2 of these columns have missing variables.\n"
     ]
    },
    {
     "data": {
      "text/html": [
       "<div>\n",
       "<style scoped>\n",
       "    .dataframe tbody tr th:only-of-type {\n",
       "        vertical-align: middle;\n",
       "    }\n",
       "\n",
       "    .dataframe tbody tr th {\n",
       "        vertical-align: top;\n",
       "    }\n",
       "\n",
       "    .dataframe thead th {\n",
       "        text-align: right;\n",
       "    }\n",
       "</style>\n",
       "<table border=\"1\" class=\"dataframe\">\n",
       "  <thead>\n",
       "    <tr style=\"text-align: right;\">\n",
       "      <th></th>\n",
       "      <th>Missing Values</th>\n",
       "      <th>% Missing Value</th>\n",
       "      <th>Data Type</th>\n",
       "    </tr>\n",
       "  </thead>\n",
       "  <tbody>\n",
       "    <tr>\n",
       "      <th>CustomerID</th>\n",
       "      <td>135080</td>\n",
       "      <td>24.9</td>\n",
       "      <td>object</td>\n",
       "    </tr>\n",
       "    <tr>\n",
       "      <th>Description</th>\n",
       "      <td>1454</td>\n",
       "      <td>0.3</td>\n",
       "      <td>object</td>\n",
       "    </tr>\n",
       "  </tbody>\n",
       "</table>\n",
       "</div>"
      ],
      "text/plain": [
       "             Missing Values  % Missing Value Data Type\n",
       "CustomerID           135080             24.9    object\n",
       "Description            1454              0.3    object"
      ]
     },
     "execution_count": 10,
     "metadata": {},
     "output_type": "execute_result"
    }
   ],
   "source": [
    "def values_table(data_missings):\n",
    "    mis_val = data_missings.isnull().sum()\n",
    "    mis_val_percent = 100 * data_missings.isnull().sum() / len(data_missings)\n",
    "    table = pd.concat([ mis_val,mis_val_percent], axis=1)\n",
    "    table = table.rename(columns = {  0 :'Missing Values', 1 : '% Missing Value'})\n",
    "    table['Data Type'] = data_missings.dtypes\n",
    "    table = table[table.iloc[:,1] != 0].sort_values('% Missing Value', ascending=False).round(1)\n",
    "    print (\"There are \" + str(data.shape[1]) + \" columns and \" + str(data.shape[0]) + \" rows in the dataset.\\n\"      \n",
    "             + str(table.shape[0]) + \" of these columns have missing variables.\")\n",
    "    return table\n",
    "\n",
    "values_table(data_missings) \n",
    "\n",
    "# 24.9% of customer information is missing. Customer information cannot be filled in any way. However, we can investigate the cause and effects of this missingness."
   ]
  },
  {
   "cell_type": "code",
   "execution_count": 11,
   "metadata": {
    "execution": {
     "iopub.execute_input": "2021-01-29T17:11:36.498805Z",
     "iopub.status.busy": "2021-01-29T17:11:36.498119Z",
     "iopub.status.idle": "2021-01-29T17:11:36.568034Z",
     "shell.execute_reply": "2021-01-29T17:11:36.568588Z"
    },
    "papermill": {
     "duration": 0.17068,
     "end_time": "2021-01-29T17:11:36.568735",
     "exception": false,
     "start_time": "2021-01-29T17:11:36.398055",
     "status": "completed"
    },
    "tags": []
   },
   "outputs": [
    {
     "data": {
      "text/plain": [
       "(True    1454\n",
       " Name: CustomerID, dtype: int64,\n",
       " 0.0    1454\n",
       " Name: UnitPrice, dtype: int64)"
      ]
     },
     "execution_count": 11,
     "metadata": {},
     "output_type": "execute_result"
    }
   ],
   "source": [
    "data[data.Description.isnull()].CustomerID.isnull().value_counts(),data[data.Description.isnull()].UnitPrice.value_counts()"
   ]
  },
  {
   "cell_type": "code",
   "execution_count": 12,
   "metadata": {
    "execution": {
     "iopub.execute_input": "2021-01-29T17:11:36.652393Z",
     "iopub.status.busy": "2021-01-29T17:11:36.651817Z",
     "iopub.status.idle": "2021-01-29T17:11:37.237376Z",
     "shell.execute_reply": "2021-01-29T17:11:37.236829Z"
    },
    "papermill": {
     "duration": 0.628499,
     "end_time": "2021-01-29T17:11:37.237491",
     "exception": false,
     "start_time": "2021-01-29T17:11:36.608992",
     "status": "completed"
    },
    "tags": []
   },
   "outputs": [
    {
     "data": {
      "text/plain": [
       "white hanging heart t-light holder    2369\n",
       "regency cakestand 3 tier              2200\n",
       "jumbo bag red retrospot               2159\n",
       "party bunting                         1727\n",
       "lunch bag red retrospot               1638\n",
       "                                      ... \n",
       "sold as set/6 by dotcom                  1\n",
       "wrong code?                              1\n",
       "16 pc cutlery set pantry design          1\n",
       "marked as 23343                          1\n",
       "blue crystal boot phone charm            1\n",
       "Name: Description_lower_case, Length: 4206, dtype: int64"
      ]
     },
     "execution_count": 12,
     "metadata": {},
     "output_type": "execute_result"
    }
   ],
   "source": [
    "data[\"Description_lower_case\"] = data[\"Description\"].str.lower()\n",
    "data.Description_lower_case.dropna().value_counts()"
   ]
  },
  {
   "cell_type": "code",
   "execution_count": 13,
   "metadata": {
    "execution": {
     "iopub.execute_input": "2021-01-29T17:11:37.379402Z",
     "iopub.status.busy": "2021-01-29T17:11:37.378727Z",
     "iopub.status.idle": "2021-01-29T17:11:37.822295Z",
     "shell.execute_reply": "2021-01-29T17:11:37.821807Z"
    },
    "papermill": {
     "duration": 0.544614,
     "end_time": "2021-01-29T17:11:37.822413",
     "exception": false,
     "start_time": "2021-01-29T17:11:37.277799",
     "status": "completed"
    },
    "tags": []
   },
   "outputs": [
    {
     "data": {
      "text/html": [
       "<div>\n",
       "<style scoped>\n",
       "    .dataframe tbody tr th:only-of-type {\n",
       "        vertical-align: middle;\n",
       "    }\n",
       "\n",
       "    .dataframe tbody tr th {\n",
       "        vertical-align: top;\n",
       "    }\n",
       "\n",
       "    .dataframe thead th {\n",
       "        text-align: right;\n",
       "    }\n",
       "</style>\n",
       "<table border=\"1\" class=\"dataframe\">\n",
       "  <thead>\n",
       "    <tr style=\"text-align: right;\">\n",
       "      <th></th>\n",
       "      <th>InvoiceNo</th>\n",
       "      <th>StockCode</th>\n",
       "      <th>Description</th>\n",
       "      <th>Quantity</th>\n",
       "      <th>InvoiceDate</th>\n",
       "      <th>UnitPrice</th>\n",
       "      <th>CustomerID</th>\n",
       "      <th>Country</th>\n",
       "      <th>Description_lower_case</th>\n",
       "    </tr>\n",
       "  </thead>\n",
       "  <tbody>\n",
       "    <tr>\n",
       "      <th>165448</th>\n",
       "      <td>550800</td>\n",
       "      <td>22458</td>\n",
       "      <td>Missing</td>\n",
       "      <td>-65</td>\n",
       "      <td>4/20/2011 14:48</td>\n",
       "      <td>0.0</td>\n",
       "      <td>NaN</td>\n",
       "      <td>United Kingdom</td>\n",
       "      <td>missing</td>\n",
       "    </tr>\n",
       "    <tr>\n",
       "      <th>218477</th>\n",
       "      <td>556046</td>\n",
       "      <td>21890</td>\n",
       "      <td>missing</td>\n",
       "      <td>-140</td>\n",
       "      <td>6/8/2011 12:56</td>\n",
       "      <td>0.0</td>\n",
       "      <td>NaN</td>\n",
       "      <td>United Kingdom</td>\n",
       "      <td>missing</td>\n",
       "    </tr>\n",
       "    <tr>\n",
       "      <th>323469</th>\n",
       "      <td>565310</td>\n",
       "      <td>21829</td>\n",
       "      <td>?missing</td>\n",
       "      <td>-1897</td>\n",
       "      <td>9/2/2011 12:26</td>\n",
       "      <td>0.0</td>\n",
       "      <td>NaN</td>\n",
       "      <td>United Kingdom</td>\n",
       "      <td>?missing</td>\n",
       "    </tr>\n",
       "    <tr>\n",
       "      <th>324024</th>\n",
       "      <td>565385</td>\n",
       "      <td>22435</td>\n",
       "      <td>?missing</td>\n",
       "      <td>-434</td>\n",
       "      <td>9/2/2011 15:46</td>\n",
       "      <td>0.0</td>\n",
       "      <td>NaN</td>\n",
       "      <td>United Kingdom</td>\n",
       "      <td>?missing</td>\n",
       "    </tr>\n",
       "    <tr>\n",
       "      <th>418129</th>\n",
       "      <td>572701</td>\n",
       "      <td>85078</td>\n",
       "      <td>missing</td>\n",
       "      <td>-840</td>\n",
       "      <td>10/25/2011 14:31</td>\n",
       "      <td>0.0</td>\n",
       "      <td>NaN</td>\n",
       "      <td>United Kingdom</td>\n",
       "      <td>missing</td>\n",
       "    </tr>\n",
       "    <tr>\n",
       "      <th>464813</th>\n",
       "      <td>576185</td>\n",
       "      <td>22575</td>\n",
       "      <td>missing?</td>\n",
       "      <td>-130</td>\n",
       "      <td>11/14/2011 11:25</td>\n",
       "      <td>0.0</td>\n",
       "      <td>NaN</td>\n",
       "      <td>United Kingdom</td>\n",
       "      <td>missing?</td>\n",
       "    </tr>\n",
       "    <tr>\n",
       "      <th>493686</th>\n",
       "      <td>578245</td>\n",
       "      <td>22568</td>\n",
       "      <td>?? missing</td>\n",
       "      <td>-170</td>\n",
       "      <td>11/23/2011 12:37</td>\n",
       "      <td>0.0</td>\n",
       "      <td>NaN</td>\n",
       "      <td>United Kingdom</td>\n",
       "      <td>?? missing</td>\n",
       "    </tr>\n",
       "    <tr>\n",
       "      <th>497819</th>\n",
       "      <td>578476</td>\n",
       "      <td>72807B</td>\n",
       "      <td>????missing</td>\n",
       "      <td>-124</td>\n",
       "      <td>11/24/2011 12:45</td>\n",
       "      <td>0.0</td>\n",
       "      <td>NaN</td>\n",
       "      <td>United Kingdom</td>\n",
       "      <td>????missing</td>\n",
       "    </tr>\n",
       "    <tr>\n",
       "      <th>497820</th>\n",
       "      <td>578477</td>\n",
       "      <td>72807A</td>\n",
       "      <td>???missing</td>\n",
       "      <td>-224</td>\n",
       "      <td>11/24/2011 12:45</td>\n",
       "      <td>0.0</td>\n",
       "      <td>NaN</td>\n",
       "      <td>United Kingdom</td>\n",
       "      <td>???missing</td>\n",
       "    </tr>\n",
       "    <tr>\n",
       "      <th>497821</th>\n",
       "      <td>578478</td>\n",
       "      <td>72807C</td>\n",
       "      <td>???missing</td>\n",
       "      <td>-428</td>\n",
       "      <td>11/24/2011 12:45</td>\n",
       "      <td>0.0</td>\n",
       "      <td>NaN</td>\n",
       "      <td>United Kingdom</td>\n",
       "      <td>???missing</td>\n",
       "    </tr>\n",
       "    <tr>\n",
       "      <th>536908</th>\n",
       "      <td>581226</td>\n",
       "      <td>23090</td>\n",
       "      <td>missing</td>\n",
       "      <td>-338</td>\n",
       "      <td>12/8/2011 9:56</td>\n",
       "      <td>0.0</td>\n",
       "      <td>NaN</td>\n",
       "      <td>United Kingdom</td>\n",
       "      <td>missing</td>\n",
       "    </tr>\n",
       "  </tbody>\n",
       "</table>\n",
       "</div>"
      ],
      "text/plain": [
       "       InvoiceNo StockCode  Description  Quantity       InvoiceDate  \\\n",
       "165448    550800     22458      Missing       -65   4/20/2011 14:48   \n",
       "218477    556046     21890      missing      -140    6/8/2011 12:56   \n",
       "323469    565310     21829     ?missing     -1897    9/2/2011 12:26   \n",
       "324024    565385     22435     ?missing      -434    9/2/2011 15:46   \n",
       "418129    572701     85078      missing      -840  10/25/2011 14:31   \n",
       "464813    576185     22575     missing?      -130  11/14/2011 11:25   \n",
       "493686    578245     22568   ?? missing      -170  11/23/2011 12:37   \n",
       "497819    578476    72807B  ????missing      -124  11/24/2011 12:45   \n",
       "497820    578477    72807A   ???missing      -224  11/24/2011 12:45   \n",
       "497821    578478    72807C   ???missing      -428  11/24/2011 12:45   \n",
       "536908    581226     23090      missing      -338    12/8/2011 9:56   \n",
       "\n",
       "        UnitPrice CustomerID         Country Description_lower_case  \n",
       "165448        0.0        NaN  United Kingdom                missing  \n",
       "218477        0.0        NaN  United Kingdom                missing  \n",
       "323469        0.0        NaN  United Kingdom               ?missing  \n",
       "324024        0.0        NaN  United Kingdom               ?missing  \n",
       "418129        0.0        NaN  United Kingdom                missing  \n",
       "464813        0.0        NaN  United Kingdom               missing?  \n",
       "493686        0.0        NaN  United Kingdom             ?? missing  \n",
       "497819        0.0        NaN  United Kingdom            ????missing  \n",
       "497820        0.0        NaN  United Kingdom             ???missing  \n",
       "497821        0.0        NaN  United Kingdom             ???missing  \n",
       "536908        0.0        NaN  United Kingdom                missing  "
      ]
     },
     "execution_count": 13,
     "metadata": {},
     "output_type": "execute_result"
    }
   ],
   "source": [
    "data[data[\"Description_lower_case\"].str.contains(\"missing\", na=False)]"
   ]
  },
  {
   "cell_type": "code",
   "execution_count": 14,
   "metadata": {
    "execution": {
     "iopub.execute_input": "2021-01-29T17:11:37.965339Z",
     "iopub.status.busy": "2021-01-29T17:11:37.964638Z",
     "iopub.status.idle": "2021-01-29T17:11:38.300615Z",
     "shell.execute_reply": "2021-01-29T17:11:38.300009Z"
    },
    "papermill": {
     "duration": 0.437658,
     "end_time": "2021-01-29T17:11:38.300760",
     "exception": false,
     "start_time": "2021-01-29T17:11:37.863102",
     "status": "completed"
    },
    "tags": []
   },
   "outputs": [
    {
     "data": {
      "text/html": [
       "<div>\n",
       "<style scoped>\n",
       "    .dataframe tbody tr th:only-of-type {\n",
       "        vertical-align: middle;\n",
       "    }\n",
       "\n",
       "    .dataframe tbody tr th {\n",
       "        vertical-align: top;\n",
       "    }\n",
       "\n",
       "    .dataframe thead th {\n",
       "        text-align: right;\n",
       "    }\n",
       "</style>\n",
       "<table border=\"1\" class=\"dataframe\">\n",
       "  <thead>\n",
       "    <tr style=\"text-align: right;\">\n",
       "      <th></th>\n",
       "      <th>InvoiceNo</th>\n",
       "      <th>StockCode</th>\n",
       "      <th>Description</th>\n",
       "      <th>Quantity</th>\n",
       "      <th>InvoiceDate</th>\n",
       "      <th>UnitPrice</th>\n",
       "      <th>CustomerID</th>\n",
       "      <th>Country</th>\n",
       "      <th>Description_lower_case</th>\n",
       "    </tr>\n",
       "  </thead>\n",
       "  <tbody>\n",
       "    <tr>\n",
       "      <th>7313</th>\n",
       "      <td>537032</td>\n",
       "      <td>21275</td>\n",
       "      <td>?</td>\n",
       "      <td>-30</td>\n",
       "      <td>12/3/2010 16:50</td>\n",
       "      <td>0.0</td>\n",
       "      <td>NaN</td>\n",
       "      <td>United Kingdom</td>\n",
       "      <td>?</td>\n",
       "    </tr>\n",
       "    <tr>\n",
       "      <th>21518</th>\n",
       "      <td>538090</td>\n",
       "      <td>20956</td>\n",
       "      <td>?</td>\n",
       "      <td>-723</td>\n",
       "      <td>12/9/2010 14:48</td>\n",
       "      <td>0.0</td>\n",
       "      <td>NaN</td>\n",
       "      <td>United Kingdom</td>\n",
       "      <td>?</td>\n",
       "    </tr>\n",
       "    <tr>\n",
       "      <th>38261</th>\n",
       "      <td>539494</td>\n",
       "      <td>21479</td>\n",
       "      <td>?</td>\n",
       "      <td>752</td>\n",
       "      <td>12/20/2010 10:36</td>\n",
       "      <td>0.0</td>\n",
       "      <td>NaN</td>\n",
       "      <td>United Kingdom</td>\n",
       "      <td>?</td>\n",
       "    </tr>\n",
       "    <tr>\n",
       "      <th>43662</th>\n",
       "      <td>540100</td>\n",
       "      <td>22837</td>\n",
       "      <td>?</td>\n",
       "      <td>-106</td>\n",
       "      <td>1/4/2011 16:53</td>\n",
       "      <td>0.0</td>\n",
       "      <td>NaN</td>\n",
       "      <td>United Kingdom</td>\n",
       "      <td>?</td>\n",
       "    </tr>\n",
       "    <tr>\n",
       "      <th>50806</th>\n",
       "      <td>540558</td>\n",
       "      <td>21258</td>\n",
       "      <td>?</td>\n",
       "      <td>-29</td>\n",
       "      <td>1/10/2011 10:04</td>\n",
       "      <td>0.0</td>\n",
       "      <td>NaN</td>\n",
       "      <td>United Kingdom</td>\n",
       "      <td>?</td>\n",
       "    </tr>\n",
       "    <tr>\n",
       "      <th>...</th>\n",
       "      <td>...</td>\n",
       "      <td>...</td>\n",
       "      <td>...</td>\n",
       "      <td>...</td>\n",
       "      <td>...</td>\n",
       "      <td>...</td>\n",
       "      <td>...</td>\n",
       "      <td>...</td>\n",
       "      <td>...</td>\n",
       "    </tr>\n",
       "    <tr>\n",
       "      <th>514649</th>\n",
       "      <td>579734</td>\n",
       "      <td>84859C</td>\n",
       "      <td>wet?</td>\n",
       "      <td>-153</td>\n",
       "      <td>11/30/2011 14:25</td>\n",
       "      <td>0.0</td>\n",
       "      <td>NaN</td>\n",
       "      <td>United Kingdom</td>\n",
       "      <td>wet?</td>\n",
       "    </tr>\n",
       "    <tr>\n",
       "      <th>514735</th>\n",
       "      <td>579742</td>\n",
       "      <td>85204</td>\n",
       "      <td>lost??</td>\n",
       "      <td>-1131</td>\n",
       "      <td>11/30/2011 14:34</td>\n",
       "      <td>0.0</td>\n",
       "      <td>NaN</td>\n",
       "      <td>United Kingdom</td>\n",
       "      <td>lost??</td>\n",
       "    </tr>\n",
       "    <tr>\n",
       "      <th>524370</th>\n",
       "      <td>580547</td>\n",
       "      <td>21201</td>\n",
       "      <td>???</td>\n",
       "      <td>-390</td>\n",
       "      <td>12/5/2011 9:29</td>\n",
       "      <td>0.0</td>\n",
       "      <td>NaN</td>\n",
       "      <td>United Kingdom</td>\n",
       "      <td>???</td>\n",
       "    </tr>\n",
       "    <tr>\n",
       "      <th>535324</th>\n",
       "      <td>581201</td>\n",
       "      <td>22217</td>\n",
       "      <td>damages?</td>\n",
       "      <td>-155</td>\n",
       "      <td>12/7/2011 18:30</td>\n",
       "      <td>0.0</td>\n",
       "      <td>NaN</td>\n",
       "      <td>United Kingdom</td>\n",
       "      <td>damages?</td>\n",
       "    </tr>\n",
       "    <tr>\n",
       "      <th>535327</th>\n",
       "      <td>581204</td>\n",
       "      <td>85104</td>\n",
       "      <td>????damages????</td>\n",
       "      <td>-355</td>\n",
       "      <td>12/7/2011 18:32</td>\n",
       "      <td>0.0</td>\n",
       "      <td>NaN</td>\n",
       "      <td>United Kingdom</td>\n",
       "      <td>????damages????</td>\n",
       "    </tr>\n",
       "  </tbody>\n",
       "</table>\n",
       "<p>82 rows × 9 columns</p>\n",
       "</div>"
      ],
      "text/plain": [
       "       InvoiceNo StockCode      Description  Quantity       InvoiceDate  \\\n",
       "7313      537032     21275                ?       -30   12/3/2010 16:50   \n",
       "21518     538090     20956                ?      -723   12/9/2010 14:48   \n",
       "38261     539494     21479                ?       752  12/20/2010 10:36   \n",
       "43662     540100     22837                ?      -106    1/4/2011 16:53   \n",
       "50806     540558     21258                ?       -29   1/10/2011 10:04   \n",
       "...          ...       ...              ...       ...               ...   \n",
       "514649    579734    84859C             wet?      -153  11/30/2011 14:25   \n",
       "514735    579742     85204           lost??     -1131  11/30/2011 14:34   \n",
       "524370    580547     21201              ???      -390    12/5/2011 9:29   \n",
       "535324    581201     22217         damages?      -155   12/7/2011 18:30   \n",
       "535327    581204     85104  ????damages????      -355   12/7/2011 18:32   \n",
       "\n",
       "        UnitPrice CustomerID         Country Description_lower_case  \n",
       "7313          0.0        NaN  United Kingdom                      ?  \n",
       "21518         0.0        NaN  United Kingdom                      ?  \n",
       "38261         0.0        NaN  United Kingdom                      ?  \n",
       "43662         0.0        NaN  United Kingdom                      ?  \n",
       "50806         0.0        NaN  United Kingdom                      ?  \n",
       "...           ...        ...             ...                    ...  \n",
       "514649        0.0        NaN  United Kingdom                   wet?  \n",
       "514735        0.0        NaN  United Kingdom                 lost??  \n",
       "524370        0.0        NaN  United Kingdom                    ???  \n",
       "535324        0.0        NaN  United Kingdom               damages?  \n",
       "535327        0.0        NaN  United Kingdom        ????damages????  \n",
       "\n",
       "[82 rows x 9 columns]"
      ]
     },
     "execution_count": 14,
     "metadata": {},
     "output_type": "execute_result"
    }
   ],
   "source": [
    "data[data[\"Description_lower_case\"].str.contains(\"[?]\", na=False)]"
   ]
  },
  {
   "cell_type": "code",
   "execution_count": 15,
   "metadata": {
    "execution": {
     "iopub.execute_input": "2021-01-29T17:11:38.450093Z",
     "iopub.status.busy": "2021-01-29T17:11:38.449109Z",
     "iopub.status.idle": "2021-01-29T17:11:38.662698Z",
     "shell.execute_reply": "2021-01-29T17:11:38.662151Z"
    },
    "papermill": {
     "duration": 0.318757,
     "end_time": "2021-01-29T17:11:38.662816",
     "exception": false,
     "start_time": "2021-01-29T17:11:38.344059",
     "status": "completed"
    },
    "tags": []
   },
   "outputs": [
    {
     "data": {
      "text/html": [
       "<div>\n",
       "<style scoped>\n",
       "    .dataframe tbody tr th:only-of-type {\n",
       "        vertical-align: middle;\n",
       "    }\n",
       "\n",
       "    .dataframe tbody tr th {\n",
       "        vertical-align: top;\n",
       "    }\n",
       "\n",
       "    .dataframe thead th {\n",
       "        text-align: right;\n",
       "    }\n",
       "</style>\n",
       "<table border=\"1\" class=\"dataframe\">\n",
       "  <thead>\n",
       "    <tr style=\"text-align: right;\">\n",
       "      <th></th>\n",
       "      <th>InvoiceNo</th>\n",
       "      <th>StockCode</th>\n",
       "      <th>Description</th>\n",
       "      <th>Quantity</th>\n",
       "      <th>InvoiceDate</th>\n",
       "      <th>UnitPrice</th>\n",
       "      <th>CustomerID</th>\n",
       "      <th>Country</th>\n",
       "      <th>Description_lower_case</th>\n",
       "    </tr>\n",
       "  </thead>\n",
       "  <tbody>\n",
       "  </tbody>\n",
       "</table>\n",
       "</div>"
      ],
      "text/plain": [
       "Empty DataFrame\n",
       "Columns: [InvoiceNo, StockCode, Description, Quantity, InvoiceDate, UnitPrice, CustomerID, Country, Description_lower_case]\n",
       "Index: []"
      ]
     },
     "execution_count": 15,
     "metadata": {},
     "output_type": "execute_result"
    }
   ],
   "source": [
    "data[data[\"Description_lower_case\"].str.startswith(\"nan\", na=False)]"
   ]
  },
  {
   "cell_type": "code",
   "execution_count": 16,
   "metadata": {
    "execution": {
     "iopub.execute_input": "2021-01-29T17:11:38.812320Z",
     "iopub.status.busy": "2021-01-29T17:11:38.811209Z",
     "iopub.status.idle": "2021-01-29T17:11:42.708238Z",
     "shell.execute_reply": "2021-01-29T17:11:42.707623Z"
    },
    "papermill": {
     "duration": 4.003114,
     "end_time": "2021-01-29T17:11:42.708392",
     "exception": false,
     "start_time": "2021-01-29T17:11:38.705278",
     "status": "completed"
    },
    "tags": []
   },
   "outputs": [],
   "source": [
    "data.loc[data.Description_lower_case.isnull()==False, \"Description_lower_case\"] = data.loc[\n",
    "    data.Description_lower_case.isnull()==False, \"Description_lower_case\"\n",
    "].apply(lambda x: np.where(\"missing\" in x, None, x))"
   ]
  },
  {
   "cell_type": "code",
   "execution_count": 17,
   "metadata": {
    "execution": {
     "iopub.execute_input": "2021-01-29T17:11:42.855881Z",
     "iopub.status.busy": "2021-01-29T17:11:42.854750Z",
     "iopub.status.idle": "2021-01-29T17:11:43.190865Z",
     "shell.execute_reply": "2021-01-29T17:11:43.190182Z"
    },
    "papermill": {
     "duration": 0.439561,
     "end_time": "2021-01-29T17:11:43.190980",
     "exception": false,
     "start_time": "2021-01-29T17:11:42.751419",
     "status": "completed"
    },
    "tags": []
   },
   "outputs": [
    {
     "data": {
      "text/html": [
       "<div>\n",
       "<style scoped>\n",
       "    .dataframe tbody tr th:only-of-type {\n",
       "        vertical-align: middle;\n",
       "    }\n",
       "\n",
       "    .dataframe tbody tr th {\n",
       "        vertical-align: top;\n",
       "    }\n",
       "\n",
       "    .dataframe thead th {\n",
       "        text-align: right;\n",
       "    }\n",
       "</style>\n",
       "<table border=\"1\" class=\"dataframe\">\n",
       "  <thead>\n",
       "    <tr style=\"text-align: right;\">\n",
       "      <th></th>\n",
       "      <th>InvoiceNo</th>\n",
       "      <th>StockCode</th>\n",
       "      <th>Description</th>\n",
       "      <th>Quantity</th>\n",
       "      <th>InvoiceDate</th>\n",
       "      <th>UnitPrice</th>\n",
       "      <th>CustomerID</th>\n",
       "      <th>Country</th>\n",
       "      <th>Description_lower_case</th>\n",
       "    </tr>\n",
       "  </thead>\n",
       "  <tbody>\n",
       "  </tbody>\n",
       "</table>\n",
       "</div>"
      ],
      "text/plain": [
       "Empty DataFrame\n",
       "Columns: [InvoiceNo, StockCode, Description, Quantity, InvoiceDate, UnitPrice, CustomerID, Country, Description_lower_case]\n",
       "Index: []"
      ]
     },
     "execution_count": 17,
     "metadata": {},
     "output_type": "execute_result"
    }
   ],
   "source": [
    "data[data[\"Description_lower_case\"].str.contains(\"missing\", na=False)]"
   ]
  },
  {
   "cell_type": "code",
   "execution_count": 18,
   "metadata": {
    "execution": {
     "iopub.execute_input": "2021-01-29T17:11:43.340337Z",
     "iopub.status.busy": "2021-01-29T17:11:43.338979Z",
     "iopub.status.idle": "2021-01-29T17:11:47.228681Z",
     "shell.execute_reply": "2021-01-29T17:11:47.227946Z"
    },
    "papermill": {
     "duration": 3.994565,
     "end_time": "2021-01-29T17:11:47.228797",
     "exception": false,
     "start_time": "2021-01-29T17:11:43.234232",
     "status": "completed"
    },
    "tags": []
   },
   "outputs": [],
   "source": [
    "data.loc[data.Description_lower_case.isnull()==False, \"Description_lower_case\"] = data.loc[\n",
    "    data.Description_lower_case.isnull()==False, \"Description_lower_case\"\n",
    "].apply(lambda x: np.where(\"?\" in x, None, x))"
   ]
  },
  {
   "cell_type": "code",
   "execution_count": 19,
   "metadata": {
    "execution": {
     "iopub.execute_input": "2021-01-29T17:11:47.376126Z",
     "iopub.status.busy": "2021-01-29T17:11:47.374920Z",
     "iopub.status.idle": "2021-01-29T17:11:47.727509Z",
     "shell.execute_reply": "2021-01-29T17:11:47.726925Z"
    },
    "papermill": {
     "duration": 0.456286,
     "end_time": "2021-01-29T17:11:47.727632",
     "exception": false,
     "start_time": "2021-01-29T17:11:47.271346",
     "status": "completed"
    },
    "tags": []
   },
   "outputs": [
    {
     "data": {
      "text/html": [
       "<div>\n",
       "<style scoped>\n",
       "    .dataframe tbody tr th:only-of-type {\n",
       "        vertical-align: middle;\n",
       "    }\n",
       "\n",
       "    .dataframe tbody tr th {\n",
       "        vertical-align: top;\n",
       "    }\n",
       "\n",
       "    .dataframe thead th {\n",
       "        text-align: right;\n",
       "    }\n",
       "</style>\n",
       "<table border=\"1\" class=\"dataframe\">\n",
       "  <thead>\n",
       "    <tr style=\"text-align: right;\">\n",
       "      <th></th>\n",
       "      <th>InvoiceNo</th>\n",
       "      <th>StockCode</th>\n",
       "      <th>Description</th>\n",
       "      <th>Quantity</th>\n",
       "      <th>InvoiceDate</th>\n",
       "      <th>UnitPrice</th>\n",
       "      <th>CustomerID</th>\n",
       "      <th>Country</th>\n",
       "      <th>Description_lower_case</th>\n",
       "    </tr>\n",
       "  </thead>\n",
       "  <tbody>\n",
       "  </tbody>\n",
       "</table>\n",
       "</div>"
      ],
      "text/plain": [
       "Empty DataFrame\n",
       "Columns: [InvoiceNo, StockCode, Description, Quantity, InvoiceDate, UnitPrice, CustomerID, Country, Description_lower_case]\n",
       "Index: []"
      ]
     },
     "execution_count": 19,
     "metadata": {},
     "output_type": "execute_result"
    }
   ],
   "source": [
    "data[data[\"Description_lower_case\"].str.contains(\"[?]\", na=False)]"
   ]
  },
  {
   "cell_type": "code",
   "execution_count": 20,
   "metadata": {
    "execution": {
     "iopub.execute_input": "2021-01-29T17:11:47.822094Z",
     "iopub.status.busy": "2021-01-29T17:11:47.821511Z",
     "iopub.status.idle": "2021-01-29T17:11:48.219479Z",
     "shell.execute_reply": "2021-01-29T17:11:48.218700Z"
    },
    "papermill": {
     "duration": 0.448101,
     "end_time": "2021-01-29T17:11:48.219601",
     "exception": false,
     "start_time": "2021-01-29T17:11:47.771500",
     "status": "completed"
    },
    "tags": []
   },
   "outputs": [
    {
     "data": {
      "text/plain": [
       "InvoiceNo                      0\n",
       "StockCode                      0\n",
       "Description                 1454\n",
       "Quantity                       0\n",
       "InvoiceDate                    0\n",
       "UnitPrice                      0\n",
       "CustomerID                135080\n",
       "Country                        0\n",
       "Description_lower_case      1540\n",
       "dtype: int64"
      ]
     },
     "execution_count": 20,
     "metadata": {},
     "output_type": "execute_result"
    }
   ],
   "source": [
    "data.isnull().sum()"
   ]
  },
  {
   "cell_type": "code",
   "execution_count": 21,
   "metadata": {
    "execution": {
     "iopub.execute_input": "2021-01-29T17:11:48.316119Z",
     "iopub.status.busy": "2021-01-29T17:11:48.315488Z",
     "iopub.status.idle": "2021-01-29T17:11:48.742464Z",
     "shell.execute_reply": "2021-01-29T17:11:48.741904Z"
    },
    "papermill": {
     "duration": 0.477447,
     "end_time": "2021-01-29T17:11:48.742588",
     "exception": false,
     "start_time": "2021-01-29T17:11:48.265141",
     "status": "completed"
    },
    "tags": []
   },
   "outputs": [],
   "source": [
    "df= data.dropna()"
   ]
  },
  {
   "cell_type": "code",
   "execution_count": 22,
   "metadata": {
    "execution": {
     "iopub.execute_input": "2021-01-29T17:11:49.130819Z",
     "iopub.status.busy": "2021-01-29T17:11:48.838679Z",
     "iopub.status.idle": "2021-01-29T17:11:49.144474Z",
     "shell.execute_reply": "2021-01-29T17:11:49.143941Z"
    },
    "papermill": {
     "duration": 0.356628,
     "end_time": "2021-01-29T17:11:49.144595",
     "exception": false,
     "start_time": "2021-01-29T17:11:48.787967",
     "status": "completed"
    },
    "tags": []
   },
   "outputs": [
    {
     "data": {
      "text/plain": [
       "InvoiceNo                 0\n",
       "StockCode                 0\n",
       "Description               0\n",
       "Quantity                  0\n",
       "InvoiceDate               0\n",
       "UnitPrice                 0\n",
       "CustomerID                0\n",
       "Country                   0\n",
       "Description_lower_case    0\n",
       "dtype: int64"
      ]
     },
     "execution_count": 22,
     "metadata": {},
     "output_type": "execute_result"
    }
   ],
   "source": [
    "df.isnull().sum()"
   ]
  },
  {
   "cell_type": "code",
   "execution_count": 23,
   "metadata": {
    "execution": {
     "iopub.execute_input": "2021-01-29T17:11:49.241514Z",
     "iopub.status.busy": "2021-01-29T17:11:49.240852Z",
     "iopub.status.idle": "2021-01-29T17:11:49.278565Z",
     "shell.execute_reply": "2021-01-29T17:11:49.277457Z"
    },
    "papermill": {
     "duration": 0.088385,
     "end_time": "2021-01-29T17:11:49.278697",
     "exception": false,
     "start_time": "2021-01-29T17:11:49.190312",
     "status": "completed"
    },
    "tags": []
   },
   "outputs": [],
   "source": [
    "df=df.drop(['Description'], axis=1)"
   ]
  },
  {
   "cell_type": "code",
   "execution_count": 24,
   "metadata": {
    "execution": {
     "iopub.execute_input": "2021-01-29T17:11:49.384071Z",
     "iopub.status.busy": "2021-01-29T17:11:49.383100Z",
     "iopub.status.idle": "2021-01-29T17:11:49.660052Z",
     "shell.execute_reply": "2021-01-29T17:11:49.660641Z"
    },
    "papermill": {
     "duration": 0.335846,
     "end_time": "2021-01-29T17:11:49.660836",
     "exception": false,
     "start_time": "2021-01-29T17:11:49.324990",
     "status": "completed"
    },
    "tags": []
   },
   "outputs": [
    {
     "data": {
      "text/plain": [
       "5225"
      ]
     },
     "execution_count": 24,
     "metadata": {},
     "output_type": "execute_result"
    }
   ],
   "source": [
    "df.duplicated().sum()"
   ]
  },
  {
   "cell_type": "code",
   "execution_count": 25,
   "metadata": {
    "execution": {
     "iopub.execute_input": "2021-01-29T17:11:49.758179Z",
     "iopub.status.busy": "2021-01-29T17:11:49.757541Z",
     "iopub.status.idle": "2021-01-29T17:11:50.063953Z",
     "shell.execute_reply": "2021-01-29T17:11:50.063405Z"
    },
    "papermill": {
     "duration": 0.355701,
     "end_time": "2021-01-29T17:11:50.064073",
     "exception": false,
     "start_time": "2021-01-29T17:11:49.708372",
     "status": "completed"
    },
    "tags": []
   },
   "outputs": [],
   "source": [
    "df.drop_duplicates(inplace = True)"
   ]
  },
  {
   "cell_type": "code",
   "execution_count": 26,
   "metadata": {
    "execution": {
     "iopub.execute_input": "2021-01-29T17:11:50.186745Z",
     "iopub.status.busy": "2021-01-29T17:11:50.186031Z",
     "iopub.status.idle": "2021-01-29T17:11:50.450218Z",
     "shell.execute_reply": "2021-01-29T17:11:50.449667Z"
    },
    "papermill": {
     "duration": 0.338954,
     "end_time": "2021-01-29T17:11:50.450360",
     "exception": false,
     "start_time": "2021-01-29T17:11:50.111406",
     "status": "completed"
    },
    "tags": []
   },
   "outputs": [],
   "source": [
    "df['InvoiceDate'] = pd.to_datetime(df.InvoiceDate, format='%m/%d/%Y %H:%M')\n",
    "df['CustomerID'] = df['CustomerID'].astype('int64')"
   ]
  },
  {
   "cell_type": "code",
   "execution_count": 27,
   "metadata": {
    "execution": {
     "iopub.execute_input": "2021-01-29T17:11:50.552096Z",
     "iopub.status.busy": "2021-01-29T17:11:50.551225Z",
     "iopub.status.idle": "2021-01-29T17:11:50.674432Z",
     "shell.execute_reply": "2021-01-29T17:11:50.673836Z"
    },
    "papermill": {
     "duration": 0.177349,
     "end_time": "2021-01-29T17:11:50.674550",
     "exception": false,
     "start_time": "2021-01-29T17:11:50.497201",
     "status": "completed"
    },
    "tags": []
   },
   "outputs": [],
   "source": [
    "df.insert(loc=2, column='Year', value=df.InvoiceDate.dt.year)\n",
    "df.insert(loc=3, column='Month', value=df.InvoiceDate.dt.month)\n",
    "df.insert(loc=4, column='Day', value=(df.InvoiceDate.dt.dayofweek)+1)"
   ]
  },
  {
   "cell_type": "markdown",
   "metadata": {
    "papermill": {
     "duration": 0.046936,
     "end_time": "2021-01-29T17:11:50.769974",
     "exception": false,
     "start_time": "2021-01-29T17:11:50.723038",
     "status": "completed"
    },
    "tags": []
   },
   "source": [
    "# Grouping Data"
   ]
  },
  {
   "cell_type": "code",
   "execution_count": 28,
   "metadata": {
    "execution": {
     "iopub.execute_input": "2021-01-29T17:11:50.873533Z",
     "iopub.status.busy": "2021-01-29T17:11:50.871599Z",
     "iopub.status.idle": "2021-01-29T17:11:50.963781Z",
     "shell.execute_reply": "2021-01-29T17:11:50.963200Z"
    },
    "papermill": {
     "duration": 0.146517,
     "end_time": "2021-01-29T17:11:50.963895",
     "exception": false,
     "start_time": "2021-01-29T17:11:50.817378",
     "status": "completed"
    },
    "tags": []
   },
   "outputs": [],
   "source": [
    "df_1=df.groupby(['Country'], as_index=False)[\"InvoiceNo\"].count()\n",
    "df_1=df_1.sort_values(by='InvoiceNo', ascending=False).head(10)"
   ]
  },
  {
   "cell_type": "code",
   "execution_count": 29,
   "metadata": {
    "execution": {
     "iopub.execute_input": "2021-01-29T17:11:51.075223Z",
     "iopub.status.busy": "2021-01-29T17:11:51.067765Z",
     "iopub.status.idle": "2021-01-29T17:11:51.260726Z",
     "shell.execute_reply": "2021-01-29T17:11:51.260128Z"
    },
    "papermill": {
     "duration": 0.249662,
     "end_time": "2021-01-29T17:11:51.260850",
     "exception": false,
     "start_time": "2021-01-29T17:11:51.011188",
     "status": "completed"
    },
    "tags": []
   },
   "outputs": [
    {
     "data": {
      "image/png": "[encoded data removed]",
      "text/plain": [
       "<Figure size 720x360 with 1 Axes>"
      ]
     },
     "metadata": {
      "needs_background": "light"
     },
     "output_type": "display_data"
    }
   ],
   "source": [
    "plt.figure(figsize=(10,5))\n",
    "sns.barplot(df_1.Country, df_1.InvoiceNo, alpha=0.8,palette=\"Blues_r\")\n",
    "plt.title('Number of Transactions in Countries')\n",
    "plt.ylabel('Number of Transactions', fontsize=12)\n",
    "plt.xlabel('Country', fontsize=12)\n",
    "plt.xticks(rotation=90)\n",
    "plt.show()"
   ]
  },
  {
   "cell_type": "code",
   "execution_count": 30,
   "metadata": {
    "execution": {
     "iopub.execute_input": "2021-01-29T17:11:51.365603Z",
     "iopub.status.busy": "2021-01-29T17:11:51.364972Z",
     "iopub.status.idle": "2021-01-29T17:11:51.667915Z",
     "shell.execute_reply": "2021-01-29T17:11:51.667383Z"
    },
    "papermill": {
     "duration": 0.35936,
     "end_time": "2021-01-29T17:11:51.668033",
     "exception": false,
     "start_time": "2021-01-29T17:11:51.308673",
     "status": "completed"
    },
    "tags": []
   },
   "outputs": [
    {
     "data": {
      "image/png": "[encoded data removed]",
      "text/plain": [
       "<Figure size 1440x360 with 1 Axes>"
      ]
     },
     "metadata": {
      "needs_background": "light"
     },
     "output_type": "display_data"
    }
   ],
   "source": [
    "df_2=df.groupby(['Month','Year'], as_index=False)[\"InvoiceNo\"].count()\n",
    "plt.figure(figsize=(20,5))\n",
    "sns.barplot(df_2.Month, df_2.InvoiceNo,palette=\"PiYG_r\")\n",
    "plt.ylabel(\"Number of Transactions\")\n",
    "plt.title(\"The Number of Transactions by Months\")\n",
    "plt.xticks([0,1,2,3,4,5,6,7,8,9,10,11],['Jan-2010','Feb-2011','Mar-2011','Apr-2011','May-2011','Jun-2011','July-2011','Aug-2011','Sep-2011','Oct-2011','Nov-2011','Dec-2010']);"
   ]
  },
  {
   "cell_type": "code",
   "execution_count": 31,
   "metadata": {
    "execution": {
     "iopub.execute_input": "2021-01-29T17:11:51.776218Z",
     "iopub.status.busy": "2021-01-29T17:11:51.773966Z",
     "iopub.status.idle": "2021-01-29T17:11:52.083558Z",
     "shell.execute_reply": "2021-01-29T17:11:52.082988Z"
    },
    "papermill": {
     "duration": 0.365934,
     "end_time": "2021-01-29T17:11:52.083668",
     "exception": false,
     "start_time": "2021-01-29T17:11:51.717734",
     "status": "completed"
    },
    "tags": []
   },
   "outputs": [
    {
     "data": {
      "image/png": "[encoded data removed]",
      "text/plain": [
       "<Figure size 1440x360 with 1 Axes>"
      ]
     },
     "metadata": {
      "needs_background": "light"
     },
     "output_type": "display_data"
    }
   ],
   "source": [
    "df_3=df.groupby(['Day'], as_index=False)[\"InvoiceNo\"].count()\n",
    "plt.figure(figsize=(20,5))\n",
    "sns.barplot(df_3.Day, df_3.InvoiceNo,palette=\"Spectral_r\")\n",
    "plt.ylabel(\"Number of Transactions\")\n",
    "plt.title(\"The Number of Transactions by Days\")\n",
    "plt.xticks([0,1,2,3,4,5,6],['Mon','Tue','Wed','Thu','Fri','Sat','Sun']);"
   ]
  },
  {
   "cell_type": "code",
   "execution_count": 32,
   "metadata": {
    "execution": {
     "iopub.execute_input": "2021-01-29T17:11:52.191983Z",
     "iopub.status.busy": "2021-01-29T17:11:52.190979Z",
     "iopub.status.idle": "2021-01-29T17:11:52.290921Z",
     "shell.execute_reply": "2021-01-29T17:11:52.290292Z"
    },
    "papermill": {
     "duration": 0.157319,
     "end_time": "2021-01-29T17:11:52.291029",
     "exception": false,
     "start_time": "2021-01-29T17:11:52.133710",
     "status": "completed"
    },
    "tags": []
   },
   "outputs": [
    {
     "data": {
      "text/html": [
       "<div>\n",
       "<style scoped>\n",
       "    .dataframe tbody tr th:only-of-type {\n",
       "        vertical-align: middle;\n",
       "    }\n",
       "\n",
       "    .dataframe tbody tr th {\n",
       "        vertical-align: top;\n",
       "    }\n",
       "\n",
       "    .dataframe thead th {\n",
       "        text-align: right;\n",
       "    }\n",
       "</style>\n",
       "<table border=\"1\" class=\"dataframe\">\n",
       "  <thead>\n",
       "    <tr style=\"text-align: right;\">\n",
       "      <th></th>\n",
       "      <th>CustomerID</th>\n",
       "      <th>InvoiceNo</th>\n",
       "      <th>Quantity</th>\n",
       "    </tr>\n",
       "  </thead>\n",
       "  <tbody>\n",
       "    <tr>\n",
       "      <th>0</th>\n",
       "      <td>12346</td>\n",
       "      <td>541431</td>\n",
       "      <td>74215</td>\n",
       "    </tr>\n",
       "    <tr>\n",
       "      <th>1</th>\n",
       "      <td>12346</td>\n",
       "      <td>C541433</td>\n",
       "      <td>-74215</td>\n",
       "    </tr>\n",
       "    <tr>\n",
       "      <th>2</th>\n",
       "      <td>12347</td>\n",
       "      <td>537626</td>\n",
       "      <td>319</td>\n",
       "    </tr>\n",
       "    <tr>\n",
       "      <th>3</th>\n",
       "      <td>12347</td>\n",
       "      <td>542237</td>\n",
       "      <td>315</td>\n",
       "    </tr>\n",
       "    <tr>\n",
       "      <th>4</th>\n",
       "      <td>12347</td>\n",
       "      <td>549222</td>\n",
       "      <td>483</td>\n",
       "    </tr>\n",
       "    <tr>\n",
       "      <th>...</th>\n",
       "      <td>...</td>\n",
       "      <td>...</td>\n",
       "      <td>...</td>\n",
       "    </tr>\n",
       "    <tr>\n",
       "      <th>22177</th>\n",
       "      <td>18283</td>\n",
       "      <td>557956</td>\n",
       "      <td>146</td>\n",
       "    </tr>\n",
       "    <tr>\n",
       "      <th>22186</th>\n",
       "      <td>18283</td>\n",
       "      <td>580872</td>\n",
       "      <td>142</td>\n",
       "    </tr>\n",
       "    <tr>\n",
       "      <th>22188</th>\n",
       "      <td>18287</td>\n",
       "      <td>570715</td>\n",
       "      <td>990</td>\n",
       "    </tr>\n",
       "    <tr>\n",
       "      <th>22187</th>\n",
       "      <td>18287</td>\n",
       "      <td>554065</td>\n",
       "      <td>488</td>\n",
       "    </tr>\n",
       "    <tr>\n",
       "      <th>22189</th>\n",
       "      <td>18287</td>\n",
       "      <td>573167</td>\n",
       "      <td>108</td>\n",
       "    </tr>\n",
       "  </tbody>\n",
       "</table>\n",
       "<p>22190 rows × 3 columns</p>\n",
       "</div>"
      ],
      "text/plain": [
       "       CustomerID InvoiceNo  Quantity\n",
       "0           12346    541431     74215\n",
       "1           12346   C541433    -74215\n",
       "2           12347    537626       319\n",
       "3           12347    542237       315\n",
       "4           12347    549222       483\n",
       "...           ...       ...       ...\n",
       "22177       18283    557956       146\n",
       "22186       18283    580872       142\n",
       "22188       18287    570715       990\n",
       "22187       18287    554065       488\n",
       "22189       18287    573167       108\n",
       "\n",
       "[22190 rows x 3 columns]"
      ]
     },
     "execution_count": 32,
     "metadata": {},
     "output_type": "execute_result"
    }
   ],
   "source": [
    "df_4= df.groupby(['CustomerID', 'InvoiceNo'], as_index=False)['Quantity'].sum()\n",
    "df_4=df_4.sort_values(by='CustomerID')\n",
    "df_4"
   ]
  },
  {
   "cell_type": "code",
   "execution_count": 33,
   "metadata": {
    "execution": {
     "iopub.execute_input": "2021-01-29T17:11:52.400655Z",
     "iopub.status.busy": "2021-01-29T17:11:52.399451Z",
     "iopub.status.idle": "2021-01-29T17:11:52.810047Z",
     "shell.execute_reply": "2021-01-29T17:11:52.809523Z"
    },
    "papermill": {
     "duration": 0.468846,
     "end_time": "2021-01-29T17:11:52.810168",
     "exception": false,
     "start_time": "2021-01-29T17:11:52.341322",
     "status": "completed"
    },
    "tags": []
   },
   "outputs": [
    {
     "data": {
      "text/html": [
       "<div>\n",
       "<style scoped>\n",
       "    .dataframe tbody tr th:only-of-type {\n",
       "        vertical-align: middle;\n",
       "    }\n",
       "\n",
       "    .dataframe tbody tr th {\n",
       "        vertical-align: top;\n",
       "    }\n",
       "\n",
       "    .dataframe thead th {\n",
       "        text-align: right;\n",
       "    }\n",
       "</style>\n",
       "<table border=\"1\" class=\"dataframe\">\n",
       "  <thead>\n",
       "    <tr style=\"text-align: right;\">\n",
       "      <th></th>\n",
       "      <th>Customers</th>\n",
       "      <th>Products</th>\n",
       "      <th>Orders</th>\n",
       "      <th>Canceled_orders</th>\n",
       "    </tr>\n",
       "  </thead>\n",
       "  <tbody>\n",
       "    <tr>\n",
       "      <th>num.</th>\n",
       "      <td>4372</td>\n",
       "      <td>3684</td>\n",
       "      <td>392732</td>\n",
       "      <td>8872</td>\n",
       "    </tr>\n",
       "  </tbody>\n",
       "</table>\n",
       "</div>"
      ],
      "text/plain": [
       "      Customers  Products  Orders  Canceled_orders\n",
       "num.       4372      3684  392732             8872"
      ]
     },
     "execution_count": 33,
     "metadata": {},
     "output_type": "execute_result"
    }
   ],
   "source": [
    "df['Canceled_orders'] = df['InvoiceNo'].apply(lambda x:int('C' in x))\n",
    "df_5=pd.DataFrame([{'Customers': len(df['CustomerID'].value_counts()),\n",
    "               'Products': len(df['StockCode'].value_counts()),    \n",
    "               'Orders': (df['Canceled_orders'].values == 0).sum(),\n",
    "               'Canceled_orders' : (df['Canceled_orders'].values == 1).sum()}],index=['num.'])\n",
    "df_5"
   ]
  },
  {
   "cell_type": "code",
   "execution_count": 34,
   "metadata": {
    "execution": {
     "iopub.execute_input": "2021-01-29T17:11:52.920955Z",
     "iopub.status.busy": "2021-01-29T17:11:52.920306Z",
     "iopub.status.idle": "2021-01-29T17:11:52.960211Z",
     "shell.execute_reply": "2021-01-29T17:11:52.959584Z"
    },
    "papermill": {
     "duration": 0.097851,
     "end_time": "2021-01-29T17:11:52.960341",
     "exception": false,
     "start_time": "2021-01-29T17:11:52.862490",
     "status": "completed"
    },
    "tags": []
   },
   "outputs": [
    {
     "data": {
      "text/html": [
       "<div>\n",
       "<style scoped>\n",
       "    .dataframe tbody tr th:only-of-type {\n",
       "        vertical-align: middle;\n",
       "    }\n",
       "\n",
       "    .dataframe tbody tr th {\n",
       "        vertical-align: top;\n",
       "    }\n",
       "\n",
       "    .dataframe thead th {\n",
       "        text-align: right;\n",
       "    }\n",
       "</style>\n",
       "<table border=\"1\" class=\"dataframe\">\n",
       "  <thead>\n",
       "    <tr style=\"text-align: right;\">\n",
       "      <th></th>\n",
       "      <th>CustomerID</th>\n",
       "      <th>InvoiceNo</th>\n",
       "      <th>Canceled_orders</th>\n",
       "      <th>Quantity</th>\n",
       "    </tr>\n",
       "  </thead>\n",
       "  <tbody>\n",
       "    <tr>\n",
       "      <th>0</th>\n",
       "      <td>12346</td>\n",
       "      <td>C541433</td>\n",
       "      <td>1</td>\n",
       "      <td>-74215</td>\n",
       "    </tr>\n",
       "    <tr>\n",
       "      <th>1</th>\n",
       "      <td>12352</td>\n",
       "      <td>C545329</td>\n",
       "      <td>1</td>\n",
       "      <td>-2</td>\n",
       "    </tr>\n",
       "    <tr>\n",
       "      <th>2</th>\n",
       "      <td>12352</td>\n",
       "      <td>C545330</td>\n",
       "      <td>1</td>\n",
       "      <td>-1</td>\n",
       "    </tr>\n",
       "    <tr>\n",
       "      <th>3</th>\n",
       "      <td>12352</td>\n",
       "      <td>C547388</td>\n",
       "      <td>1</td>\n",
       "      <td>-63</td>\n",
       "    </tr>\n",
       "    <tr>\n",
       "      <th>4</th>\n",
       "      <td>12359</td>\n",
       "      <td>C549955</td>\n",
       "      <td>1</td>\n",
       "      <td>-4</td>\n",
       "    </tr>\n",
       "  </tbody>\n",
       "</table>\n",
       "</div>"
      ],
      "text/plain": [
       "   CustomerID InvoiceNo  Canceled_orders  Quantity\n",
       "0       12346   C541433                1    -74215\n",
       "1       12352   C545329                1        -2\n",
       "2       12352   C545330                1        -1\n",
       "3       12352   C547388                1       -63\n",
       "4       12359   C549955                1        -4"
      ]
     },
     "execution_count": 34,
     "metadata": {},
     "output_type": "execute_result"
    }
   ],
   "source": [
    "df_6=df[df['Canceled_orders'] == 1].groupby(['CustomerID', 'InvoiceNo','Canceled_orders'],\n",
    "                                            as_index=False)['Quantity'].sum()\n",
    "df_6.head()"
   ]
  },
  {
   "cell_type": "code",
   "execution_count": 35,
   "metadata": {
    "execution": {
     "iopub.execute_input": "2021-01-29T17:11:53.070595Z",
     "iopub.status.busy": "2021-01-29T17:11:53.069931Z",
     "iopub.status.idle": "2021-01-29T17:11:53.174567Z",
     "shell.execute_reply": "2021-01-29T17:11:53.174062Z"
    },
    "papermill": {
     "duration": 0.162799,
     "end_time": "2021-01-29T17:11:53.174681",
     "exception": false,
     "start_time": "2021-01-29T17:11:53.011882",
     "status": "completed"
    },
    "tags": []
   },
   "outputs": [
    {
     "data": {
      "text/html": [
       "<div>\n",
       "<style scoped>\n",
       "    .dataframe tbody tr th:only-of-type {\n",
       "        vertical-align: middle;\n",
       "    }\n",
       "\n",
       "    .dataframe tbody tr th {\n",
       "        vertical-align: top;\n",
       "    }\n",
       "\n",
       "    .dataframe thead th {\n",
       "        text-align: right;\n",
       "    }\n",
       "</style>\n",
       "<table border=\"1\" class=\"dataframe\">\n",
       "  <thead>\n",
       "    <tr style=\"text-align: right;\">\n",
       "      <th></th>\n",
       "      <th>CustomerID</th>\n",
       "      <th>InvoiceNo</th>\n",
       "      <th>TotalPrice</th>\n",
       "    </tr>\n",
       "  </thead>\n",
       "  <tbody>\n",
       "    <tr>\n",
       "      <th>0</th>\n",
       "      <td>12346</td>\n",
       "      <td>541431</td>\n",
       "      <td>77183.60</td>\n",
       "    </tr>\n",
       "    <tr>\n",
       "      <th>1</th>\n",
       "      <td>12346</td>\n",
       "      <td>C541433</td>\n",
       "      <td>-77183.60</td>\n",
       "    </tr>\n",
       "    <tr>\n",
       "      <th>2</th>\n",
       "      <td>12347</td>\n",
       "      <td>537626</td>\n",
       "      <td>711.79</td>\n",
       "    </tr>\n",
       "    <tr>\n",
       "      <th>3</th>\n",
       "      <td>12347</td>\n",
       "      <td>542237</td>\n",
       "      <td>475.39</td>\n",
       "    </tr>\n",
       "    <tr>\n",
       "      <th>4</th>\n",
       "      <td>12347</td>\n",
       "      <td>549222</td>\n",
       "      <td>636.25</td>\n",
       "    </tr>\n",
       "    <tr>\n",
       "      <th>...</th>\n",
       "      <td>...</td>\n",
       "      <td>...</td>\n",
       "      <td>...</td>\n",
       "    </tr>\n",
       "    <tr>\n",
       "      <th>22177</th>\n",
       "      <td>18283</td>\n",
       "      <td>557956</td>\n",
       "      <td>192.80</td>\n",
       "    </tr>\n",
       "    <tr>\n",
       "      <th>22186</th>\n",
       "      <td>18283</td>\n",
       "      <td>580872</td>\n",
       "      <td>208.00</td>\n",
       "    </tr>\n",
       "    <tr>\n",
       "      <th>22188</th>\n",
       "      <td>18287</td>\n",
       "      <td>570715</td>\n",
       "      <td>1001.32</td>\n",
       "    </tr>\n",
       "    <tr>\n",
       "      <th>22187</th>\n",
       "      <td>18287</td>\n",
       "      <td>554065</td>\n",
       "      <td>765.28</td>\n",
       "    </tr>\n",
       "    <tr>\n",
       "      <th>22189</th>\n",
       "      <td>18287</td>\n",
       "      <td>573167</td>\n",
       "      <td>70.68</td>\n",
       "    </tr>\n",
       "  </tbody>\n",
       "</table>\n",
       "<p>22190 rows × 3 columns</p>\n",
       "</div>"
      ],
      "text/plain": [
       "       CustomerID InvoiceNo  TotalPrice\n",
       "0           12346    541431    77183.60\n",
       "1           12346   C541433   -77183.60\n",
       "2           12347    537626      711.79\n",
       "3           12347    542237      475.39\n",
       "4           12347    549222      636.25\n",
       "...           ...       ...         ...\n",
       "22177       18283    557956      192.80\n",
       "22186       18283    580872      208.00\n",
       "22188       18287    570715     1001.32\n",
       "22187       18287    554065      765.28\n",
       "22189       18287    573167       70.68\n",
       "\n",
       "[22190 rows x 3 columns]"
      ]
     },
     "execution_count": 35,
     "metadata": {},
     "output_type": "execute_result"
    }
   ],
   "source": [
    "df['TotalPrice'] = df['UnitPrice'] * df['Quantity'] \n",
    "df_7= df.groupby(['CustomerID','InvoiceNo'], as_index=False)['TotalPrice'].sum()\n",
    "df_7=df_7.sort_values(by='CustomerID')\n",
    "df_7"
   ]
  },
  {
   "cell_type": "code",
   "execution_count": 36,
   "metadata": {
    "execution": {
     "iopub.execute_input": "2021-01-29T17:11:53.286974Z",
     "iopub.status.busy": "2021-01-29T17:11:53.286264Z",
     "iopub.status.idle": "2021-01-29T17:11:53.301758Z",
     "shell.execute_reply": "2021-01-29T17:11:53.302192Z"
    },
    "papermill": {
     "duration": 0.075053,
     "end_time": "2021-01-29T17:11:53.302353",
     "exception": false,
     "start_time": "2021-01-29T17:11:53.227300",
     "status": "completed"
    },
    "tags": []
   },
   "outputs": [
    {
     "data": {
      "text/html": [
       "<div>\n",
       "<style scoped>\n",
       "    .dataframe tbody tr th:only-of-type {\n",
       "        vertical-align: middle;\n",
       "    }\n",
       "\n",
       "    .dataframe tbody tr th {\n",
       "        vertical-align: top;\n",
       "    }\n",
       "\n",
       "    .dataframe thead th {\n",
       "        text-align: right;\n",
       "    }\n",
       "</style>\n",
       "<table border=\"1\" class=\"dataframe\">\n",
       "  <thead>\n",
       "    <tr style=\"text-align: right;\">\n",
       "      <th></th>\n",
       "      <th>CustomerID</th>\n",
       "      <th>StockCode</th>\n",
       "      <th>Description_lower_case</th>\n",
       "      <th>Quantity</th>\n",
       "    </tr>\n",
       "  </thead>\n",
       "  <tbody>\n",
       "    <tr>\n",
       "      <th>0</th>\n",
       "      <td>12415</td>\n",
       "      <td>22619</td>\n",
       "      <td>set of 6 soldier skittles</td>\n",
       "      <td>80</td>\n",
       "    </tr>\n",
       "    <tr>\n",
       "      <th>1</th>\n",
       "      <td>12415</td>\n",
       "      <td>23234</td>\n",
       "      <td>biscuit tin vintage christmas</td>\n",
       "      <td>216</td>\n",
       "    </tr>\n",
       "    <tr>\n",
       "      <th>2</th>\n",
       "      <td>12431</td>\n",
       "      <td>22385</td>\n",
       "      <td>jumbo bag spaceboy design</td>\n",
       "      <td>12</td>\n",
       "    </tr>\n",
       "    <tr>\n",
       "      <th>3</th>\n",
       "      <td>12437</td>\n",
       "      <td>M</td>\n",
       "      <td>manual</td>\n",
       "      <td>1</td>\n",
       "    </tr>\n",
       "    <tr>\n",
       "      <th>4</th>\n",
       "      <td>12444</td>\n",
       "      <td>23407</td>\n",
       "      <td>set of 2 trays home sweet home</td>\n",
       "      <td>2</td>\n",
       "    </tr>\n",
       "  </tbody>\n",
       "</table>\n",
       "</div>"
      ],
      "text/plain": [
       "   CustomerID StockCode          Description_lower_case  Quantity\n",
       "0       12415     22619       set of 6 soldier skittles        80\n",
       "1       12415     23234   biscuit tin vintage christmas       216\n",
       "2       12431     22385       jumbo bag spaceboy design        12\n",
       "3       12437         M                          manual         1\n",
       "4       12444     23407  set of 2 trays home sweet home         2"
      ]
     },
     "execution_count": 36,
     "metadata": {},
     "output_type": "execute_result"
    }
   ],
   "source": [
    "df_7=df[df.UnitPrice == 0].groupby(['CustomerID', 'StockCode','Description_lower_case'],\n",
    "                                            as_index=False)['Quantity'].sum()\n",
    "df_7.head()"
   ]
  },
  {
   "cell_type": "code",
   "execution_count": 37,
   "metadata": {
    "execution": {
     "iopub.execute_input": "2021-01-29T17:11:53.413280Z",
     "iopub.status.busy": "2021-01-29T17:11:53.412669Z",
     "iopub.status.idle": "2021-01-29T17:11:53.428274Z",
     "shell.execute_reply": "2021-01-29T17:11:53.428914Z"
    },
    "papermill": {
     "duration": 0.07366,
     "end_time": "2021-01-29T17:11:53.429056",
     "exception": false,
     "start_time": "2021-01-29T17:11:53.355396",
     "status": "completed"
    },
    "tags": []
   },
   "outputs": [
    {
     "data": {
      "text/html": [
       "<div>\n",
       "<style scoped>\n",
       "    .dataframe tbody tr th:only-of-type {\n",
       "        vertical-align: middle;\n",
       "    }\n",
       "\n",
       "    .dataframe tbody tr th {\n",
       "        vertical-align: top;\n",
       "    }\n",
       "\n",
       "    .dataframe thead th {\n",
       "        text-align: right;\n",
       "    }\n",
       "</style>\n",
       "<table border=\"1\" class=\"dataframe\">\n",
       "  <thead>\n",
       "    <tr style=\"text-align: right;\">\n",
       "      <th></th>\n",
       "      <th>CustomerID</th>\n",
       "      <th>InvoiceNo</th>\n",
       "      <th>Description_lower_case</th>\n",
       "      <th>Quantity</th>\n",
       "    </tr>\n",
       "  </thead>\n",
       "  <tbody>\n",
       "    <tr>\n",
       "      <th>0</th>\n",
       "      <td>12415</td>\n",
       "      <td>554037</td>\n",
       "      <td>set of 6 soldier skittles</td>\n",
       "      <td>80</td>\n",
       "    </tr>\n",
       "    <tr>\n",
       "      <th>1</th>\n",
       "      <td>12415</td>\n",
       "      <td>574138</td>\n",
       "      <td>biscuit tin vintage christmas</td>\n",
       "      <td>216</td>\n",
       "    </tr>\n",
       "    <tr>\n",
       "      <th>2</th>\n",
       "      <td>12431</td>\n",
       "      <td>574469</td>\n",
       "      <td>jumbo bag spaceboy design</td>\n",
       "      <td>12</td>\n",
       "    </tr>\n",
       "    <tr>\n",
       "      <th>3</th>\n",
       "      <td>12437</td>\n",
       "      <td>574252</td>\n",
       "      <td>manual</td>\n",
       "      <td>1</td>\n",
       "    </tr>\n",
       "    <tr>\n",
       "      <th>4</th>\n",
       "      <td>12444</td>\n",
       "      <td>577314</td>\n",
       "      <td>set of 2 trays home sweet home</td>\n",
       "      <td>2</td>\n",
       "    </tr>\n",
       "  </tbody>\n",
       "</table>\n",
       "</div>"
      ],
      "text/plain": [
       "   CustomerID InvoiceNo          Description_lower_case  Quantity\n",
       "0       12415    554037       set of 6 soldier skittles        80\n",
       "1       12415    574138   biscuit tin vintage christmas       216\n",
       "2       12431    574469       jumbo bag spaceboy design        12\n",
       "3       12437    574252                          manual         1\n",
       "4       12444    577314  set of 2 trays home sweet home         2"
      ]
     },
     "execution_count": 37,
     "metadata": {},
     "output_type": "execute_result"
    }
   ],
   "source": [
    "df_7=df[df.UnitPrice == 0].groupby(['CustomerID', 'InvoiceNo','Description_lower_case'],\n",
    "                                            as_index=False)['Quantity'].sum()\n",
    "df_7.head()"
   ]
  },
  {
   "cell_type": "code",
   "execution_count": 38,
   "metadata": {
    "execution": {
     "iopub.execute_input": "2021-01-29T17:11:53.538575Z",
     "iopub.status.busy": "2021-01-29T17:11:53.537929Z",
     "iopub.status.idle": "2021-01-29T17:11:53.775703Z",
     "shell.execute_reply": "2021-01-29T17:11:53.776294Z"
    },
    "papermill": {
     "duration": 0.294075,
     "end_time": "2021-01-29T17:11:53.776442",
     "exception": false,
     "start_time": "2021-01-29T17:11:53.482367",
     "status": "completed"
    },
    "tags": []
   },
   "outputs": [
    {
     "data": {
      "text/html": [
       "<div>\n",
       "<style scoped>\n",
       "    .dataframe tbody tr th:only-of-type {\n",
       "        vertical-align: middle;\n",
       "    }\n",
       "\n",
       "    .dataframe tbody tr th {\n",
       "        vertical-align: top;\n",
       "    }\n",
       "\n",
       "    .dataframe thead th {\n",
       "        text-align: right;\n",
       "    }\n",
       "</style>\n",
       "<table border=\"1\" class=\"dataframe\">\n",
       "  <thead>\n",
       "    <tr style=\"text-align: right;\">\n",
       "      <th></th>\n",
       "      <th>Description_lower_case</th>\n",
       "    </tr>\n",
       "    <tr>\n",
       "      <th>StockCode</th>\n",
       "      <th></th>\n",
       "    </tr>\n",
       "  </thead>\n",
       "  <tbody>\n",
       "    <tr>\n",
       "      <th>23196</th>\n",
       "      <td>4</td>\n",
       "    </tr>\n",
       "    <tr>\n",
       "      <th>23236</th>\n",
       "      <td>4</td>\n",
       "    </tr>\n",
       "    <tr>\n",
       "      <th>23203</th>\n",
       "      <td>3</td>\n",
       "    </tr>\n",
       "    <tr>\n",
       "      <th>23370</th>\n",
       "      <td>3</td>\n",
       "    </tr>\n",
       "    <tr>\n",
       "      <th>22776</th>\n",
       "      <td>3</td>\n",
       "    </tr>\n",
       "  </tbody>\n",
       "</table>\n",
       "</div>"
      ],
      "text/plain": [
       "           Description_lower_case\n",
       "StockCode                        \n",
       "23196                           4\n",
       "23236                           4\n",
       "23203                           3\n",
       "23370                           3\n",
       "22776                           3"
      ]
     },
     "metadata": {},
     "output_type": "display_data"
    },
    {
     "data": {
      "text/html": [
       "<div>\n",
       "<style scoped>\n",
       "    .dataframe tbody tr th:only-of-type {\n",
       "        vertical-align: middle;\n",
       "    }\n",
       "\n",
       "    .dataframe tbody tr th {\n",
       "        vertical-align: top;\n",
       "    }\n",
       "\n",
       "    .dataframe thead th {\n",
       "        text-align: right;\n",
       "    }\n",
       "</style>\n",
       "<table border=\"1\" class=\"dataframe\">\n",
       "  <thead>\n",
       "    <tr style=\"text-align: right;\">\n",
       "      <th></th>\n",
       "      <th>Description_lower_case</th>\n",
       "    </tr>\n",
       "  </thead>\n",
       "  <tbody>\n",
       "    <tr>\n",
       "      <th>vintage leaf magnetic notepad</th>\n",
       "      <td>218</td>\n",
       "    </tr>\n",
       "    <tr>\n",
       "      <th>retro leaves magnetic notepad</th>\n",
       "      <td>19</td>\n",
       "    </tr>\n",
       "    <tr>\n",
       "      <th>reto leaves magnetic shopping list</th>\n",
       "      <td>3</td>\n",
       "    </tr>\n",
       "    <tr>\n",
       "      <th>leaves magnetic  shopping list</th>\n",
       "      <td>2</td>\n",
       "    </tr>\n",
       "  </tbody>\n",
       "</table>\n",
       "</div>"
      ],
      "text/plain": [
       "                                    Description_lower_case\n",
       "vintage leaf magnetic notepad                          218\n",
       "retro leaves magnetic notepad                           19\n",
       "reto leaves magnetic shopping list                       3\n",
       "leaves magnetic  shopping list                           2"
      ]
     },
     "metadata": {},
     "output_type": "display_data"
    }
   ],
   "source": [
    "df_8=df.groupby(\"StockCode\").Description_lower_case.nunique()\n",
    "df_8=df_8.sort_values(ascending=False).to_frame()\n",
    "display(df_8.loc[df_8.Description_lower_case >1 ].head());\n",
    "display(df.loc[df.StockCode == \"23196\"\n",
    "              ].Description_lower_case.value_counts().to_frame());"
   ]
  },
  {
   "cell_type": "markdown",
   "metadata": {
    "papermill": {
     "duration": 0.06179,
     "end_time": "2021-01-29T17:11:53.901975",
     "exception": false,
     "start_time": "2021-01-29T17:11:53.840185",
     "status": "completed"
    },
    "tags": []
   },
   "source": [
    "# Outlier Handling"
   ]
  },
  {
   "cell_type": "code",
   "execution_count": 39,
   "metadata": {
    "execution": {
     "iopub.execute_input": "2021-01-29T17:11:54.023805Z",
     "iopub.status.busy": "2021-01-29T17:11:54.022840Z",
     "iopub.status.idle": "2021-01-29T17:11:54.828346Z",
     "shell.execute_reply": "2021-01-29T17:11:54.827824Z"
    },
    "papermill": {
     "duration": 0.865453,
     "end_time": "2021-01-29T17:11:54.828463",
     "exception": false,
     "start_time": "2021-01-29T17:11:53.963010",
     "status": "completed"
    },
    "tags": []
   },
   "outputs": [
    {
     "data": {
      "image/png": "[encoded data removed]",
      "text/plain": [
       "<Figure size 1440x2520 with 4 Axes>"
      ]
     },
     "metadata": {
      "needs_background": "light"
     },
     "output_type": "display_data"
    }
   ],
   "source": [
    "df_outliers=df.filter([ 'Quantity', 'UnitPrice', 'Canceled_orders', 'TotalPrice'],axis=1)\n",
    "plt.figure(figsize=(20,35))\n",
    "for num,col in enumerate(df_outliers.columns,1):\n",
    "    plt.subplot(8, 5, num)\n",
    "    sns.boxplot(df_outliers[col])\n",
    "    plt.tight_layout()"
   ]
  },
  {
   "cell_type": "code",
   "execution_count": 40,
   "metadata": {
    "execution": {
     "iopub.execute_input": "2021-01-29T17:11:54.955579Z",
     "iopub.status.busy": "2021-01-29T17:11:54.954268Z",
     "iopub.status.idle": "2021-01-29T17:11:55.008263Z",
     "shell.execute_reply": "2021-01-29T17:11:55.007631Z"
    },
    "papermill": {
     "duration": 0.12361,
     "end_time": "2021-01-29T17:11:55.008382",
     "exception": false,
     "start_time": "2021-01-29T17:11:54.884772",
     "status": "completed"
    },
    "tags": []
   },
   "outputs": [
    {
     "data": {
      "text/html": [
       "<div>\n",
       "<style scoped>\n",
       "    .dataframe tbody tr th:only-of-type {\n",
       "        vertical-align: middle;\n",
       "    }\n",
       "\n",
       "    .dataframe tbody tr th {\n",
       "        vertical-align: top;\n",
       "    }\n",
       "\n",
       "    .dataframe thead th {\n",
       "        text-align: right;\n",
       "    }\n",
       "</style>\n",
       "<table border=\"1\" class=\"dataframe\">\n",
       "  <thead>\n",
       "    <tr style=\"text-align: right;\">\n",
       "      <th></th>\n",
       "      <th>Quantity</th>\n",
       "      <th>UnitPrice</th>\n",
       "      <th>TotalPrice</th>\n",
       "    </tr>\n",
       "  </thead>\n",
       "  <tbody>\n",
       "    <tr>\n",
       "      <th>count</th>\n",
       "      <td>401604.000000</td>\n",
       "      <td>401604.000000</td>\n",
       "      <td>401604.000000</td>\n",
       "    </tr>\n",
       "    <tr>\n",
       "      <th>mean</th>\n",
       "      <td>12.183273</td>\n",
       "      <td>3.474064</td>\n",
       "      <td>20.613638</td>\n",
       "    </tr>\n",
       "    <tr>\n",
       "      <th>std</th>\n",
       "      <td>250.283037</td>\n",
       "      <td>69.764035</td>\n",
       "      <td>430.352218</td>\n",
       "    </tr>\n",
       "    <tr>\n",
       "      <th>min</th>\n",
       "      <td>-80995.000000</td>\n",
       "      <td>0.000000</td>\n",
       "      <td>-168469.600000</td>\n",
       "    </tr>\n",
       "    <tr>\n",
       "      <th>25%</th>\n",
       "      <td>2.000000</td>\n",
       "      <td>1.250000</td>\n",
       "      <td>4.250000</td>\n",
       "    </tr>\n",
       "    <tr>\n",
       "      <th>50%</th>\n",
       "      <td>5.000000</td>\n",
       "      <td>1.950000</td>\n",
       "      <td>11.700000</td>\n",
       "    </tr>\n",
       "    <tr>\n",
       "      <th>75%</th>\n",
       "      <td>12.000000</td>\n",
       "      <td>3.750000</td>\n",
       "      <td>19.800000</td>\n",
       "    </tr>\n",
       "    <tr>\n",
       "      <th>max</th>\n",
       "      <td>80995.000000</td>\n",
       "      <td>38970.000000</td>\n",
       "      <td>168469.600000</td>\n",
       "    </tr>\n",
       "  </tbody>\n",
       "</table>\n",
       "</div>"
      ],
      "text/plain": [
       "            Quantity      UnitPrice     TotalPrice\n",
       "count  401604.000000  401604.000000  401604.000000\n",
       "mean       12.183273       3.474064      20.613638\n",
       "std       250.283037      69.764035     430.352218\n",
       "min    -80995.000000       0.000000 -168469.600000\n",
       "25%         2.000000       1.250000       4.250000\n",
       "50%         5.000000       1.950000      11.700000\n",
       "75%        12.000000       3.750000      19.800000\n",
       "max     80995.000000   38970.000000  168469.600000"
      ]
     },
     "execution_count": 40,
     "metadata": {},
     "output_type": "execute_result"
    }
   ],
   "source": [
    "df.loc[:, [\"Quantity\", \"UnitPrice\",\"TotalPrice\"]].describe()"
   ]
  },
  {
   "cell_type": "code",
   "execution_count": 41,
   "metadata": {
    "execution": {
     "iopub.execute_input": "2021-01-29T17:11:55.134767Z",
     "iopub.status.busy": "2021-01-29T17:11:55.133657Z",
     "iopub.status.idle": "2021-01-29T17:11:55.165730Z",
     "shell.execute_reply": "2021-01-29T17:11:55.166296Z"
    },
    "papermill": {
     "duration": 0.101047,
     "end_time": "2021-01-29T17:11:55.166452",
     "exception": false,
     "start_time": "2021-01-29T17:11:55.065405",
     "status": "completed"
    },
    "tags": []
   },
   "outputs": [],
   "source": [
    "df_new=df.select_dtypes(include=['int', 'float'])\n",
    "\n",
    "outliers={}\n",
    "for col in df_new:\n",
    "    lower_lim = df_new[col].quantile(q=0.01)\n",
    "    upper_lim = df_new[col].quantile(q=0.99)\n",
    "    outliers[col] =  len(df_new[col][(df_new[col] > upper_lim)| (df_new[col] < lower_lim)])"
   ]
  },
  {
   "cell_type": "code",
   "execution_count": 42,
   "metadata": {
    "execution": {
     "iopub.execute_input": "2021-01-29T17:11:55.284727Z",
     "iopub.status.busy": "2021-01-29T17:11:55.284055Z",
     "iopub.status.idle": "2021-01-29T17:11:55.294507Z",
     "shell.execute_reply": "2021-01-29T17:11:55.293971Z"
    },
    "papermill": {
     "duration": 0.070718,
     "end_time": "2021-01-29T17:11:55.294629",
     "exception": false,
     "start_time": "2021-01-29T17:11:55.223911",
     "status": "completed"
    },
    "tags": []
   },
   "outputs": [
    {
     "data": {
      "text/html": [
       "<div>\n",
       "<style scoped>\n",
       "    .dataframe tbody tr th:only-of-type {\n",
       "        vertical-align: middle;\n",
       "    }\n",
       "\n",
       "    .dataframe tbody tr th {\n",
       "        vertical-align: top;\n",
       "    }\n",
       "\n",
       "    .dataframe thead th {\n",
       "        text-align: right;\n",
       "    }\n",
       "</style>\n",
       "<table border=\"1\" class=\"dataframe\">\n",
       "  <thead>\n",
       "    <tr style=\"text-align: right;\">\n",
       "      <th></th>\n",
       "      <th>Feature</th>\n",
       "      <th>Outliers</th>\n",
       "    </tr>\n",
       "  </thead>\n",
       "  <tbody>\n",
       "    <tr>\n",
       "      <th>0</th>\n",
       "      <td>UnitPrice</td>\n",
       "      <td>6880</td>\n",
       "    </tr>\n",
       "    <tr>\n",
       "      <th>1</th>\n",
       "      <td>TotalPrice</td>\n",
       "      <td>7992</td>\n",
       "    </tr>\n",
       "  </tbody>\n",
       "</table>\n",
       "</div>"
      ],
      "text/plain": [
       "      Feature  Outliers\n",
       "0   UnitPrice      6880\n",
       "1  TotalPrice      7992"
      ]
     },
     "execution_count": 42,
     "metadata": {},
     "output_type": "execute_result"
    }
   ],
   "source": [
    "outliers_hardedge=pd.DataFrame(outliers.items(),columns=['Feature','Outliers'])\n",
    "outliers_hardedge "
   ]
  },
  {
   "cell_type": "markdown",
   "metadata": {
    "papermill": {
     "duration": 0.057761,
     "end_time": "2021-01-29T17:11:55.409605",
     "exception": false,
     "start_time": "2021-01-29T17:11:55.351844",
     "status": "completed"
    },
    "tags": []
   },
   "source": [
    "Too many outliers detected.It would not be right to remove it from the data immediately\n",
    "because big data loss is not something we want. Let's try to visualize it as below."
   ]
  },
  {
   "cell_type": "code",
   "execution_count": 43,
   "metadata": {
    "execution": {
     "iopub.execute_input": "2021-01-29T17:11:55.535797Z",
     "iopub.status.busy": "2021-01-29T17:11:55.534750Z",
     "iopub.status.idle": "2021-01-29T17:11:55.854645Z",
     "shell.execute_reply": "2021-01-29T17:11:55.855193Z"
    },
    "papermill": {
     "duration": 0.388155,
     "end_time": "2021-01-29T17:11:55.855367",
     "exception": false,
     "start_time": "2021-01-29T17:11:55.467212",
     "status": "completed"
    },
    "tags": []
   },
   "outputs": [
    {
     "data": {
      "image/png": "[encoded data removed]",
      "text/plain": [
       "<Figure size 1296x360 with 1 Axes>"
      ]
     },
     "metadata": {
      "needs_background": "light"
     },
     "output_type": "display_data"
    }
   ],
   "source": [
    "df_pozitive= df.loc[df.TotalPrice > 0].copy()\n",
    "plt.figure(figsize=(18,5))\n",
    "sns.distplot(np.log(df_pozitive.TotalPrice), bins=15, kde=False, color=\"blue\");"
   ]
  },
  {
   "cell_type": "code",
   "execution_count": 44,
   "metadata": {
    "execution": {
     "iopub.execute_input": "2021-01-29T17:11:55.980653Z",
     "iopub.status.busy": "2021-01-29T17:11:55.979977Z",
     "iopub.status.idle": "2021-01-29T17:11:55.982488Z",
     "shell.execute_reply": "2021-01-29T17:11:55.982993Z"
    },
    "papermill": {
     "duration": 0.067601,
     "end_time": "2021-01-29T17:11:55.983130",
     "exception": false,
     "start_time": "2021-01-29T17:11:55.915529",
     "status": "completed"
    },
    "tags": []
   },
   "outputs": [
    {
     "data": {
      "text/plain": [
       "(0.0820849986238988, 2980.9579870417283)"
      ]
     },
     "execution_count": 44,
     "metadata": {},
     "output_type": "execute_result"
    }
   ],
   "source": [
    "np.exp(-2.5),np.exp(8)"
   ]
  },
  {
   "cell_type": "code",
   "execution_count": 45,
   "metadata": {
    "execution": {
     "iopub.execute_input": "2021-01-29T17:11:56.104965Z",
     "iopub.status.busy": "2021-01-29T17:11:56.104289Z",
     "iopub.status.idle": "2021-01-29T17:11:56.296802Z",
     "shell.execute_reply": "2021-01-29T17:11:56.297268Z"
    },
    "papermill": {
     "duration": 0.254818,
     "end_time": "2021-01-29T17:11:56.297422",
     "exception": false,
     "start_time": "2021-01-29T17:11:56.042604",
     "status": "completed"
    },
    "tags": []
   },
   "outputs": [
    {
     "data": {
      "image/png": "[encoded data removed]",
      "text/plain": [
       "<Figure size 1296x360 with 1 Axes>"
      ]
     },
     "metadata": {
      "needs_background": "light"
     },
     "output_type": "display_data"
    }
   ],
   "source": [
    "plt.figure(figsize=(18,5))\n",
    "sns.distplot(np.log(df.Quantity), bins=10, kde=False, color=\"blue\");"
   ]
  },
  {
   "cell_type": "code",
   "execution_count": 46,
   "metadata": {
    "execution": {
     "iopub.execute_input": "2021-01-29T17:11:56.418616Z",
     "iopub.status.busy": "2021-01-29T17:11:56.417994Z",
     "iopub.status.idle": "2021-01-29T17:11:56.422643Z",
     "shell.execute_reply": "2021-01-29T17:11:56.423297Z"
    },
    "papermill": {
     "duration": 0.067218,
     "end_time": "2021-01-29T17:11:56.423484",
     "exception": false,
     "start_time": "2021-01-29T17:11:56.356266",
     "status": "completed"
    },
    "tags": []
   },
   "outputs": [
    {
     "data": {
      "text/plain": [
       "(1.0, 665.1416330443618)"
      ]
     },
     "execution_count": 46,
     "metadata": {},
     "output_type": "execute_result"
    }
   ],
   "source": [
    "np.exp(0),np.exp(6.5)"
   ]
  },
  {
   "cell_type": "code",
   "execution_count": 47,
   "metadata": {
    "execution": {
     "iopub.execute_input": "2021-01-29T17:11:56.548626Z",
     "iopub.status.busy": "2021-01-29T17:11:56.547911Z",
     "iopub.status.idle": "2021-01-29T17:11:56.559997Z",
     "shell.execute_reply": "2021-01-29T17:11:56.560522Z"
    },
    "papermill": {
     "duration": 0.076938,
     "end_time": "2021-01-29T17:11:56.560680",
     "exception": false,
     "start_time": "2021-01-29T17:11:56.483742",
     "status": "completed"
    },
    "tags": []
   },
   "outputs": [
    {
     "data": {
      "text/plain": [
       "(401604, 401370, 234)"
      ]
     },
     "execution_count": 47,
     "metadata": {},
     "output_type": "execute_result"
    }
   ],
   "source": [
    "a=df[\"Quantity\"].count()\n",
    "b=df[\"Quantity\"].loc[(df.Quantity <666 )].count()\n",
    "c=a-b\n",
    "a,b,c #We can extract 234 of them from the data"
   ]
  },
  {
   "cell_type": "markdown",
   "metadata": {
    "papermill": {
     "duration": 0.061004,
     "end_time": "2021-01-29T17:11:56.683496",
     "exception": false,
     "start_time": "2021-01-29T17:11:56.622492",
     "status": "completed"
    },
    "tags": []
   },
   "source": [
    "we can drop 234 of the quantity from the data"
   ]
  },
  {
   "cell_type": "code",
   "execution_count": 48,
   "metadata": {
    "execution": {
     "iopub.execute_input": "2021-01-29T17:11:56.810456Z",
     "iopub.status.busy": "2021-01-29T17:11:56.809771Z",
     "iopub.status.idle": "2021-01-29T17:11:56.824281Z",
     "shell.execute_reply": "2021-01-29T17:11:56.824806Z"
    },
    "papermill": {
     "duration": 0.079404,
     "end_time": "2021-01-29T17:11:56.824975",
     "exception": false,
     "start_time": "2021-01-29T17:11:56.745571",
     "status": "completed"
    },
    "tags": []
   },
   "outputs": [
    {
     "data": {
      "text/plain": [
       "(401604, 392641, 8963)"
      ]
     },
     "execution_count": 48,
     "metadata": {},
     "output_type": "execute_result"
    }
   ],
   "source": [
    "m=df[\"TotalPrice\"].count()\n",
    "n=df[\"TotalPrice\"].loc[(df.TotalPrice >0.08) & (df.TotalPrice <2981 ) ].count()\n",
    "k=m-n\n",
    "m,n,k"
   ]
  },
  {
   "cell_type": "markdown",
   "metadata": {
    "papermill": {
     "duration": 0.06047,
     "end_time": "2021-01-29T17:11:56.948953",
     "exception": false,
     "start_time": "2021-01-29T17:11:56.888483",
     "status": "completed"
    },
    "tags": []
   },
   "source": [
    "we can drop 8963 of the total price from the data.Again, it means a high number of outliers, so we can drop according to the hard edge method. But it is useful to do it after seeing the reaction of the model."
   ]
  },
  {
   "cell_type": "markdown",
   "metadata": {
    "papermill": {
     "duration": 0.05927,
     "end_time": "2021-01-29T17:11:57.069484",
     "exception": false,
     "start_time": "2021-01-29T17:11:57.010214",
     "status": "completed"
    },
    "tags": []
   },
   "source": [
    "# Correlation"
   ]
  },
  {
   "cell_type": "code",
   "execution_count": 49,
   "metadata": {
    "execution": {
     "iopub.execute_input": "2021-01-29T17:11:57.196114Z",
     "iopub.status.busy": "2021-01-29T17:11:57.195467Z",
     "iopub.status.idle": "2021-01-29T17:11:57.283268Z",
     "shell.execute_reply": "2021-01-29T17:11:57.282748Z"
    },
    "papermill": {
     "duration": 0.153894,
     "end_time": "2021-01-29T17:11:57.283394",
     "exception": false,
     "start_time": "2021-01-29T17:11:57.129500",
     "status": "completed"
    },
    "tags": []
   },
   "outputs": [
    {
     "data": {
      "text/html": [
       "<div>\n",
       "<style scoped>\n",
       "    .dataframe tbody tr th:only-of-type {\n",
       "        vertical-align: middle;\n",
       "    }\n",
       "\n",
       "    .dataframe tbody tr th {\n",
       "        vertical-align: top;\n",
       "    }\n",
       "\n",
       "    .dataframe thead th {\n",
       "        text-align: right;\n",
       "    }\n",
       "</style>\n",
       "<table border=\"1\" class=\"dataframe\">\n",
       "  <thead>\n",
       "    <tr style=\"text-align: right;\">\n",
       "      <th></th>\n",
       "      <th>Year</th>\n",
       "      <th>Month</th>\n",
       "      <th>Day</th>\n",
       "      <th>Quantity</th>\n",
       "      <th>UnitPrice</th>\n",
       "      <th>CustomerID</th>\n",
       "      <th>Canceled_orders</th>\n",
       "      <th>TotalPrice</th>\n",
       "    </tr>\n",
       "  </thead>\n",
       "  <tbody>\n",
       "    <tr>\n",
       "      <th>Year</th>\n",
       "      <td>1.000000</td>\n",
       "      <td>-0.341560</td>\n",
       "      <td>-0.016204</td>\n",
       "      <td>0.001041</td>\n",
       "      <td>0.000978</td>\n",
       "      <td>-0.035279</td>\n",
       "      <td>-0.006760</td>\n",
       "      <td>-0.000213</td>\n",
       "    </tr>\n",
       "    <tr>\n",
       "      <th>Month</th>\n",
       "      <td>-0.341560</td>\n",
       "      <td>1.000000</td>\n",
       "      <td>0.025144</td>\n",
       "      <td>-0.002354</td>\n",
       "      <td>-0.003140</td>\n",
       "      <td>0.029855</td>\n",
       "      <td>-0.012708</td>\n",
       "      <td>-0.001811</td>\n",
       "    </tr>\n",
       "    <tr>\n",
       "      <th>Day</th>\n",
       "      <td>-0.016204</td>\n",
       "      <td>0.025144</td>\n",
       "      <td>1.000000</td>\n",
       "      <td>-0.004750</td>\n",
       "      <td>-0.002964</td>\n",
       "      <td>0.020804</td>\n",
       "      <td>-0.028136</td>\n",
       "      <td>-0.004747</td>\n",
       "    </tr>\n",
       "    <tr>\n",
       "      <th>Quantity</th>\n",
       "      <td>0.001041</td>\n",
       "      <td>-0.002354</td>\n",
       "      <td>-0.004750</td>\n",
       "      <td>1.000000</td>\n",
       "      <td>-0.001243</td>\n",
       "      <td>-0.003457</td>\n",
       "      <td>-0.025798</td>\n",
       "      <td>0.916130</td>\n",
       "    </tr>\n",
       "    <tr>\n",
       "      <th>UnitPrice</th>\n",
       "      <td>0.000978</td>\n",
       "      <td>-0.003140</td>\n",
       "      <td>-0.002964</td>\n",
       "      <td>-0.001243</td>\n",
       "      <td>1.000000</td>\n",
       "      <td>-0.004524</td>\n",
       "      <td>0.033233</td>\n",
       "      <td>-0.129311</td>\n",
       "    </tr>\n",
       "    <tr>\n",
       "      <th>CustomerID</th>\n",
       "      <td>-0.035279</td>\n",
       "      <td>0.029855</td>\n",
       "      <td>0.020804</td>\n",
       "      <td>-0.003457</td>\n",
       "      <td>-0.004524</td>\n",
       "      <td>1.000000</td>\n",
       "      <td>-0.025519</td>\n",
       "      <td>-0.002130</td>\n",
       "    </tr>\n",
       "    <tr>\n",
       "      <th>Canceled_orders</th>\n",
       "      <td>-0.006760</td>\n",
       "      <td>-0.012708</td>\n",
       "      <td>-0.028136</td>\n",
       "      <td>-0.025798</td>\n",
       "      <td>0.033233</td>\n",
       "      <td>-0.025519</td>\n",
       "      <td>1.000000</td>\n",
       "      <td>-0.031161</td>\n",
       "    </tr>\n",
       "    <tr>\n",
       "      <th>TotalPrice</th>\n",
       "      <td>-0.000213</td>\n",
       "      <td>-0.001811</td>\n",
       "      <td>-0.004747</td>\n",
       "      <td>0.916130</td>\n",
       "      <td>-0.129311</td>\n",
       "      <td>-0.002130</td>\n",
       "      <td>-0.031161</td>\n",
       "      <td>1.000000</td>\n",
       "    </tr>\n",
       "  </tbody>\n",
       "</table>\n",
       "</div>"
      ],
      "text/plain": [
       "                     Year     Month       Day  Quantity  UnitPrice  \\\n",
       "Year             1.000000 -0.341560 -0.016204  0.001041   0.000978   \n",
       "Month           -0.341560  1.000000  0.025144 -0.002354  -0.003140   \n",
       "Day             -0.016204  0.025144  1.000000 -0.004750  -0.002964   \n",
       "Quantity         0.001041 -0.002354 -0.004750  1.000000  -0.001243   \n",
       "UnitPrice        0.000978 -0.003140 -0.002964 -0.001243   1.000000   \n",
       "CustomerID      -0.035279  0.029855  0.020804 -0.003457  -0.004524   \n",
       "Canceled_orders -0.006760 -0.012708 -0.028136 -0.025798   0.033233   \n",
       "TotalPrice      -0.000213 -0.001811 -0.004747  0.916130  -0.129311   \n",
       "\n",
       "                 CustomerID  Canceled_orders  TotalPrice  \n",
       "Year              -0.035279        -0.006760   -0.000213  \n",
       "Month              0.029855        -0.012708   -0.001811  \n",
       "Day                0.020804        -0.028136   -0.004747  \n",
       "Quantity          -0.003457        -0.025798    0.916130  \n",
       "UnitPrice         -0.004524         0.033233   -0.129311  \n",
       "CustomerID         1.000000        -0.025519   -0.002130  \n",
       "Canceled_orders   -0.025519         1.000000   -0.031161  \n",
       "TotalPrice        -0.002130        -0.031161    1.000000  "
      ]
     },
     "execution_count": 49,
     "metadata": {},
     "output_type": "execute_result"
    }
   ],
   "source": [
    "df.corr()"
   ]
  },
  {
   "cell_type": "code",
   "execution_count": 50,
   "metadata": {
    "execution": {
     "iopub.execute_input": "2021-01-29T17:11:57.413583Z",
     "iopub.status.busy": "2021-01-29T17:11:57.412968Z",
     "iopub.status.idle": "2021-01-29T17:11:57.922222Z",
     "shell.execute_reply": "2021-01-29T17:11:57.922813Z"
    },
    "papermill": {
     "duration": 0.577265,
     "end_time": "2021-01-29T17:11:57.922961",
     "exception": false,
     "start_time": "2021-01-29T17:11:57.345696",
     "status": "completed"
    },
    "tags": []
   },
   "outputs": [
    {
     "data": {
      "image/png": "[encoded data removed]",
      "text/plain": [
       "<Figure size 1080x360 with 2 Axes>"
      ]
     },
     "metadata": {
      "needs_background": "light"
     },
     "output_type": "display_data"
    }
   ],
   "source": [
    "plt.figure(figsize=(15, 5))\n",
    "\n",
    "heatmap = sns.heatmap(df.corr(), vmin=-1, vmax=1, annot=True)\n",
    "\n",
    "heatmap.set_title('Correlation Heatmap', fontdict={'fontsize':12}, pad=12);"
   ]
  },
  {
   "cell_type": "code",
   "execution_count": null,
   "metadata": {
    "papermill": {
     "duration": 0.063644,
     "end_time": "2021-01-29T17:11:58.051792",
     "exception": false,
     "start_time": "2021-01-29T17:11:57.988148",
     "status": "completed"
    },
    "tags": []
   },
   "outputs": [],
   "source": []
  }
 ],
 "metadata": {
  "kernelspec": {
   "display_name": "Python 3",
   "language": "python",
   "name": "python3"
  },
  "language_info": {
   "codemirror_mode": {
    "name": "ipython",
    "version": 3
   },
   "file_extension": ".py",
   "mimetype": "text/x-python",
   "name": "python",
   "nbconvert_exporter": "python",
   "pygments_lexer": "ipython3",
   "version": "3.7.6"
  },
  "papermill": {
   "duration": 33.240337,
   "end_time": "2021-01-29T17:11:58.221863",
   "environment_variables": {},
   "exception": null,
   "input_path": "__notebook__.ipynb",
   "output_path": "__notebook__.ipynb",
   "parameters": {},
   "start_time": "2021-01-29T17:11:24.981526",
   "version": "2.1.0"
  }
 },
 "nbformat": 4,
 "nbformat_minor": 4
}
